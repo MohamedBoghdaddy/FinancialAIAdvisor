{
  "nbformat": 4,
  "nbformat_minor": 0,
  "metadata": {
    "colab": {
      "provenance": []
    },
    "kernelspec": {
      "name": "python3",
      "display_name": "Python 3"
    },
    "language_info": {
      "name": "python"
    }
  },
  "cells": [
    {
      "cell_type": "code",
      "source": [
        "import pandas as pd\n",
        "import numpy as np\n",
        "import matplotlib.pyplot as plt\n",
        "from sklearn.metrics import mean_absolute_error, mean_squared_error, r2_score\n",
        "from sklearn.model_selection import train_test_split\n",
        "from sklearn.preprocessing import MinMaxScaler\n",
        "from statsmodels.tsa.arima.model import ARIMA\n",
        "import xgboost as xgb\n",
        "from prophet import Prophet\n",
        "from tensorflow.keras.models import Sequential, Model\n",
        "from tensorflow.keras.layers import LSTM, Dense, Dropout, GRU, Input, Attention\n",
        "from tensorflow.keras.callbacks import EarlyStopping\n",
        "import warnings\n",
        "warnings.filterwarnings(\"ignore\")"
      ],
      "metadata": {
        "id": "-WUCBHLo-6vR"
      },
      "execution_count": 42,
      "outputs": []
    },
    {
      "cell_type": "code",
      "source": [
        "# ==================== DATA PREPARATION ====================\n",
        "import pandas as pd\n",
        "import numpy as np\n",
        "from sklearn.preprocessing import MinMaxScaler\n",
        "\n",
        "def load_data(filepath):\n",
        "    df = pd.read_excel(filepath, skiprows=3)\n",
        "    df.columns = [\"Project\", \"Stage\", \"Category\", \"Unit Type\", \"Unit Code\",\n",
        "                 \"Grand Total\", \"Total Finishing Price\", \"Unit Total\",\n",
        "                 \"Planned Delivery Date\", \"Actual Delivery Date\", \"Completion Progress\",\n",
        "                 \"Land Area\", \"Built Area\", \"Basement Area\", \"Uncovered Basement Area\",\n",
        "                 \"Penthouse Area\", \"Semi Covered Roof Area\", \"Roof Area\", \"Garden Area\",\n",
        "                 \"Garage Area\", \"Pergola Area\", \"Storage Area\", \"Extra BuiltUp Area\",\n",
        "                 \"Finishing Specs\", \"Club Pricing Structure\"]\n",
        "\n",
        "    df = df.dropna(subset=[\"Project\", \"Stage\", \"Category\", \"Unit Type\", \"Unit Code\"])\n",
        "    df[\"Planned Delivery Date\"] = pd.to_datetime(df[\"Planned Delivery Date\"], errors=\"coerce\")\n",
        "    df = df.sort_values(by=\"Planned Delivery Date\").dropna(subset=[\"Planned Delivery Date\"])\n",
        "    df[\"Unit Total\"] = pd.to_numeric(df[\"Unit Total\"], errors=\"coerce\").dropna()\n",
        "    df = df.reset_index(drop=True)\n",
        "\n",
        "    # Feature engineering\n",
        "    df['Days_Since_Start'] = (df['Planned Delivery Date'] - df['Planned Delivery Date'].min()).dt.days\n",
        "    df['Month'] = df['Planned Delivery Date'].dt.month\n",
        "    df['Quarter'] = df['Planned Delivery Date'].dt.quarter\n",
        "\n",
        "    return df\n",
        "\n",
        "# Load and split data\n",
        "df = load_data(\"/content/drive/MyDrive/real_estate.xlsx\")\n",
        "target_col = \"Unit Total\"\n",
        "train_size = int(len(df) * 0.8)\n",
        "train_df, test_df = df.iloc[:train_size], df.iloc[train_size:]\n",
        "y_train, y_test = train_df[target_col], test_df[target_col]"
      ],
      "metadata": {
        "id": "sQL5MgUm-6qZ"
      },
      "execution_count": 43,
      "outputs": []
    },
    {
      "cell_type": "code",
      "source": [
        "# ==================== EVALUATION FUNCTION ====================\n",
        "from sklearn.metrics import mean_absolute_error, mean_squared_error, r2_score\n",
        "\n",
        "def evaluate_forecast(y_true, y_pred, model_name=\"Model\"):\n",
        "    y_true = np.array(y_true).flatten()\n",
        "    y_pred = np.array(y_pred).flatten()\n",
        "\n",
        "    if len(y_true) != len(y_pred):\n",
        "        min_len = min(len(y_true), len(y_pred))\n",
        "        y_true = y_true[:min_len]\n",
        "        y_pred = y_pred[:min_len]\n",
        "\n",
        "    mean_y = np.mean(y_true)\n",
        "    metrics = {\n",
        "        'MAE': mean_absolute_error(y_true, y_pred),\n",
        "        'RMSE': np.sqrt(mean_squared_error(y_true, y_pred)),\n",
        "        'R2': r2_score(y_true, y_pred),\n",
        "        'MAPE': np.mean(np.abs((y_true - y_pred) / np.where(y_true == 0, 1e-8, y_true))) * 100,\n",
        "        'NMAE': mean_absolute_error(y_true, y_pred) / mean_y,\n",
        "        'NRMSE': np.sqrt(mean_squared_error(y_true, y_pred)) / mean_y\n",
        "    }\n",
        "\n",
        "    print(f\"\\n--- {model_name} Evaluation ---\")\n",
        "    for k, v in metrics.items():\n",
        "        print(f\"✅ {k}: {v:.4f}\" if isinstance(v, float) else f\"✅ {k}: {v}\")\n",
        "    print(\"-------------------------\")\n",
        "    return metrics"
      ],
      "metadata": {
        "id": "QH0P0a-oKGMc"
      },
      "execution_count": 44,
      "outputs": []
    },
    {
      "cell_type": "code",
      "source": [
        "# ==================== ARIMA MODEL ====================\n",
        "from statsmodels.tsa.arima.model import ARIMA\n",
        "\n",
        "print(\"\\n\" + \"=\"*20 + \" ARIMA \" + \"=\"*20)\n",
        "arima_model = ARIMA(y_train, order=(2,1,1))\n",
        "arima_result = arima_model.fit()\n",
        "\n",
        "arima_train_pred = arima_result.predict(start=0, end=len(y_train)-1)\n",
        "arima_test_pred = arima_result.forecast(steps=len(y_test))\n",
        "\n",
        "arima_train_metrics = evaluate_forecast(y_train, arima_train_pred, \"ARIMA (Training)\")\n",
        "arima_test_metrics = evaluate_forecast(y_test, arima_test_pred, \"ARIMA (Test)\")"
      ],
      "metadata": {
        "id": "mRWIj6PxKF_D",
        "colab": {
          "base_uri": "https://localhost:8080/"
        },
        "outputId": "f242c042-8178-40f7-fd16-a2a382ede647"
      },
      "execution_count": 45,
      "outputs": [
        {
          "output_type": "stream",
          "name": "stdout",
          "text": [
            "\n",
            "==================== ARIMA ====================\n",
            "\n",
            "--- ARIMA (Training) Evaluation ---\n",
            "✅ MAE: 4612575.3892\n",
            "✅ RMSE: 9213423.8095\n",
            "✅ R2: 0.3947\n",
            "✅ MAPE: 21.3368\n",
            "✅ NMAE: 0.2054\n",
            "✅ NRMSE: 0.4104\n",
            "-------------------------\n",
            "\n",
            "--- ARIMA (Test) Evaluation ---\n",
            "✅ MAE: 4033919.4125\n",
            "✅ RMSE: 8032383.8618\n",
            "✅ R2: 0.0021\n",
            "✅ MAPE: 24.0855\n",
            "✅ NMAE: 0.2537\n",
            "✅ NRMSE: 0.5051\n",
            "-------------------------\n"
          ]
        }
      ]
    },
    {
      "cell_type": "code",
      "source": [],
      "metadata": {
        "id": "33L9qNzMLFkQ"
      },
      "execution_count": 45,
      "outputs": []
    },
    {
      "cell_type": "code",
      "source": [],
      "metadata": {
        "id": "oQfxlocHK7Pp"
      },
      "execution_count": 45,
      "outputs": []
    },
    {
      "cell_type": "code",
      "source": [],
      "metadata": {
        "id": "q2lZC3tFKF9q"
      },
      "execution_count": 45,
      "outputs": []
    },
    {
      "cell_type": "code",
      "source": [],
      "metadata": {
        "id": "1sNUyjhaKF8L"
      },
      "execution_count": 45,
      "outputs": []
    },
    {
      "cell_type": "code",
      "source": [],
      "metadata": {
        "id": "oLoKSGaCKF6g"
      },
      "execution_count": 45,
      "outputs": []
    },
    {
      "cell_type": "code",
      "source": [],
      "metadata": {
        "id": "nQFvgtOyKFzu"
      },
      "execution_count": 45,
      "outputs": []
    },
    {
      "cell_type": "code",
      "source": [],
      "metadata": {
        "id": "uWfw6QKkKFyP"
      },
      "execution_count": 45,
      "outputs": []
    },
    {
      "cell_type": "code",
      "source": [],
      "metadata": {
        "id": "nkKUk5wFKFvb"
      },
      "execution_count": 45,
      "outputs": []
    },
    {
      "cell_type": "code",
      "source": [],
      "metadata": {
        "id": "AXOaYV7WKFtE"
      },
      "execution_count": 45,
      "outputs": []
    },
    {
      "cell_type": "code",
      "source": [],
      "metadata": {
        "id": "tX2HZ7LHKFpW"
      },
      "execution_count": 45,
      "outputs": []
    },
    {
      "cell_type": "code",
      "source": [],
      "metadata": {
        "id": "tT6dFxDKKFnc"
      },
      "execution_count": 45,
      "outputs": []
    },
    {
      "cell_type": "code",
      "source": [],
      "metadata": {
        "id": "LWHDNauQKFjw"
      },
      "execution_count": 45,
      "outputs": []
    },
    {
      "cell_type": "code",
      "source": [],
      "metadata": {
        "id": "fX70-RKzKFiN"
      },
      "execution_count": 45,
      "outputs": []
    },
    {
      "cell_type": "code",
      "source": [],
      "metadata": {
        "id": "ajHehC1kKFd4"
      },
      "execution_count": 45,
      "outputs": []
    },
    {
      "cell_type": "code",
      "source": [],
      "metadata": {
        "id": "vwdrCKXDKFa3"
      },
      "execution_count": 45,
      "outputs": []
    },
    {
      "cell_type": "code",
      "source": [
        "import pandas as pd\n",
        "import numpy as np\n",
        "from sklearn.preprocessing import MinMaxScaler\n",
        "from sklearn.metrics import mean_absolute_error, mean_squared_error, r2_score\n",
        "from statsmodels.tsa.arima.model import ARIMA\n",
        "import xgboost as xgb\n",
        "from prophet import Prophet\n",
        "from tensorflow.keras.models import Sequential\n",
        "from tensorflow.keras.layers import LSTM, Dense, Dropout\n",
        "import warnings\n",
        "warnings.filterwarnings(\"ignore\")\n",
        "# Mount Google Drive\n",
        "from google.colab import drive\n",
        "drive.mount('/content/drive', force_remount=True) # Added force_remount=True for convenience"
      ],
      "metadata": {
        "id": "RPnbJ_c3xeYX",
        "colab": {
          "base_uri": "https://localhost:8080/"
        },
        "outputId": "0bc96da7-5d06-4c67-9eff-fdcc4b3090f6"
      },
      "execution_count": 46,
      "outputs": [
        {
          "output_type": "stream",
          "name": "stdout",
          "text": [
            "Mounted at /content/drive\n"
          ]
        }
      ]
    },
    {
      "cell_type": "code",
      "source": [
        "def load_real_estate_data(filepath):\n",
        "    \"\"\"Load and preprocess real estate data with proper column handling\"\"\"\n",
        "    # Load data without assuming column count\n",
        "    df = pd.read_excel(filepath, skiprows=3)\n",
        "\n",
        "    # Get the essential columns we need\n",
        "    essential_cols = {\n",
        "        'Project': None,\n",
        "        'Stage': None,\n",
        "        'Category': None,\n",
        "        'Unit Type': None,\n",
        "        'Unit Code': None,\n",
        "        'Unit Total': None,\n",
        "        'Planned Delivery Date': None,\n",
        "        'Built Area': None\n",
        "    }\n",
        "\n",
        "    # Map existing columns to our preferred names\n",
        "    col_mapping = {}\n",
        "    for col in df.columns:\n",
        "        col_lower = str(col).lower()\n",
        "        if 'unit total' in col_lower or 'grand total' in col_lower:\n",
        "            essential_cols['Unit Total'] = col\n",
        "        elif 'planned' in col_lower and 'delivery' in col_lower:\n",
        "            essential_cols['Planned Delivery Date'] = col\n",
        "        elif 'built area' in col_lower or 'built up' in col_lower:\n",
        "            essential_cols['Built Area'] = col\n",
        "\n",
        "    # Create new dataframe with only essential columns\n",
        "    clean_df = pd.DataFrame()\n",
        "    for new_name, old_name in essential_cols.items():\n",
        "        if old_name and old_name in df.columns:\n",
        "            clean_df[new_name] = df[old_name]\n",
        "\n",
        "    # Clean data\n",
        "    clean_df = clean_df.dropna(subset=[\"Unit Total\", \"Planned Delivery Date\"])\n",
        "    clean_df[\"Planned Delivery Date\"] = pd.to_datetime(clean_df[\"Planned Delivery Date\"])\n",
        "    clean_df = clean_df.sort_values(\"Planned Delivery Date\")\n",
        "\n",
        "    # Feature engineering\n",
        "    clean_df['Days_Since_Start'] = (clean_df['Planned Delivery Date'] -\n",
        "                                  clean_df['Planned Delivery Date'].min()).dt.days\n",
        "    return clean_df"
      ],
      "metadata": {
        "id": "BqNJDbXGxeTE"
      },
      "execution_count": 47,
      "outputs": []
    },
    {
      "cell_type": "code",
      "source": [
        "from sklearn.metrics import mean_absolute_error, mean_squared_error, r2_score\n",
        "\n",
        "def normalized_evaluation(y_true, y_pred, model_name):\n",
        "    \"\"\"Calculate normalized evaluation metrics\"\"\"\n",
        "    y_true = np.array(y_true).flatten()\n",
        "    y_pred = np.array(y_pred).flatten()\n",
        "\n",
        "    # Handle length mismatches\n",
        "    min_len = min(len(y_true), len(y_pred))\n",
        "    y_true, y_pred = y_true[:min_len], y_pred[:min_len]\n",
        "\n",
        "    mean_y = np.mean(y_true)\n",
        "    y_true_safe = np.where(y_true == 0, 1e-8, y_true)\n",
        "\n",
        "    metrics = {\n",
        "        'NMAE': mean_absolute_error(y_true, y_pred) / mean_y,\n",
        "        'NRMSE': np.sqrt(mean_squared_error(y_true, y_pred)) / mean_y,\n",
        "        'R2': r2_score(y_true, y_pred),\n",
        "        'MAPE': np.mean(np.abs((y_true - y_pred) / y_true_safe)) * 100\n",
        "    }\n",
        "\n",
        "    print(f\"\\n--- {model_name} ---\")\n",
        "    print(f\"Normalized MAE: {metrics['NMAE']:.4f}\")\n",
        "    print(f\"Normalized RMSE: {metrics['NRMSE']:.4f}\")\n",
        "    print(f\"R² Score: {metrics['R2']:.4f}\")\n",
        "    print(f\"MAPE: {metrics['MAPE']:.2f}%\")\n",
        "    return metrics"
      ],
      "metadata": {
        "id": "B2R8yTq4xePJ"
      },
      "execution_count": 48,
      "outputs": []
    },
    {
      "cell_type": "code",
      "source": [
        "from statsmodels.tsa.arima.model import ARIMA\n",
        "\n",
        "def run_arima(y_train, y_test):\n",
        "    print(\"\\n=== ARIMA MODEL ===\")\n",
        "    model = ARIMA(y_train, order=(2,1,1))\n",
        "    results = model.fit()\n",
        "\n",
        "    # Generate predictions\n",
        "    train_pred = results.predict(start=0, end=len(y_train)-1)\n",
        "    test_pred = results.forecast(steps=len(y_test))\n",
        "\n",
        "    # Evaluate\n",
        "    train_metrics = normalized_evaluation(y_train, train_pred, \"ARIMA (Training)\")\n",
        "    test_metrics = normalized_evaluation(y_test, test_pred, \"ARIMA (Test)\")\n",
        "    return test_metrics\n",
        "\n",
        "arima_metrics = run_arima(y_train, y_test)"
      ],
      "metadata": {
        "id": "iy4oLKZCxeNs",
        "colab": {
          "base_uri": "https://localhost:8080/"
        },
        "outputId": "d7f3e660-cedb-43e3-b11c-5533f4744a4c"
      },
      "execution_count": 49,
      "outputs": [
        {
          "output_type": "stream",
          "name": "stdout",
          "text": [
            "\n",
            "=== ARIMA MODEL ===\n",
            "\n",
            "--- ARIMA (Training) ---\n",
            "Normalized MAE: 0.2054\n",
            "Normalized RMSE: 0.4104\n",
            "R² Score: 0.3947\n",
            "MAPE: 21.34%\n",
            "\n",
            "--- ARIMA (Test) ---\n",
            "Normalized MAE: 0.2537\n",
            "Normalized RMSE: 0.5051\n",
            "R² Score: 0.0021\n",
            "MAPE: 24.09%\n"
          ]
        }
      ]
    },
    {
      "cell_type": "code",
      "source": [
        "from statsmodels.tsa.statespace.sarimax import SARIMAX\n",
        "\n",
        "def run_sarima(y_train, y_test, order=(2, 1, 1), seasonal_order=(1, 1, 1, 12)):\n",
        "    print(\"\\n=== SARIMA MODEL ===\")\n",
        "\n",
        "    # Instantiate the SARIMA model with the specified orders.\n",
        "    model = SARIMAX(y_train, order=order, seasonal_order=seasonal_order)\n",
        "\n",
        "    # Fit the model. (Note: disp=False suppresses output during fitting.)\n",
        "    results = model.fit(disp=False)\n",
        "\n",
        "    # Generate predictions for the training period.\n",
        "    train_pred = results.predict(start=y_train.index[0], end=y_train.index[-1])\n",
        "\n",
        "    # Forecast for the test period.\n",
        "    test_pred = results.forecast(steps=len(y_test))\n",
        "\n",
        "    # Evaluate and compare the predictions using your custom evaluation function.\n",
        "    train_metrics = normalized_evaluation(y_train, train_pred, \"SARIMA (Training)\")\n",
        "    test_metrics = normalized_evaluation(y_test, test_pred, \"SARIMA (Test)\")\n",
        "\n",
        "    return train_metrics, test_metrics\n",
        "\n",
        "# Example run (adjust orders as needed for your dataset):\n",
        "sarima_train_metrics, sarima_test_metrics = run_sarima(y_train, y_test)\n"
      ],
      "metadata": {
        "colab": {
          "base_uri": "https://localhost:8080/"
        },
        "id": "Kf-kBZGH0FQD",
        "outputId": "7e8b773b-42ec-409c-b8d3-a6d0381dc0a9"
      },
      "execution_count": 50,
      "outputs": [
        {
          "output_type": "stream",
          "name": "stdout",
          "text": [
            "\n",
            "=== SARIMA MODEL ===\n",
            "\n",
            "--- SARIMA (Training) ---\n",
            "Normalized MAE: 0.2293\n",
            "Normalized RMSE: 0.4505\n",
            "R² Score: 0.2707\n",
            "MAPE: 23.78%\n",
            "\n",
            "--- SARIMA (Test) ---\n",
            "Normalized MAE: 0.4583\n",
            "Normalized RMSE: 0.7017\n",
            "R² Score: -0.9258\n",
            "MAPE: 39.77%\n"
          ]
        }
      ]
    },
    {
      "cell_type": "code",
      "source": [
        "from tensorflow.keras.models import Sequential\n",
        "from tensorflow.keras.layers import LSTM, Dense\n",
        "\n",
        "def create_sequences(data, n_steps=3):\n",
        "    \"\"\"Convert time series to supervised learning format\"\"\"\n",
        "    X, y = [], []\n",
        "    for i in range(len(data)-n_steps):\n",
        "        X.append(data[i:i+n_steps])\n",
        "        y.append(data[i+n_steps])\n",
        "    return np.array(X), np.array(y)\n",
        "\n",
        "def run_lstm(y_train, y_test):\n",
        "    print(\"\\n=== LSTM MODEL ===\")\n",
        "    scaler = MinMaxScaler()\n",
        "    y_train_scaled = scaler.fit_transform(y_train.values.reshape(-1, 1))\n",
        "    y_test_scaled = scaler.transform(y_test.values.reshape(-1, 1))\n",
        "\n",
        "    # Create sequences\n",
        "    n_steps = 3\n",
        "    X_train, y_train_seq = create_sequences(y_train_scaled, n_steps)\n",
        "    X_test, y_test_seq = create_sequences(y_test_scaled, n_steps)\n",
        "\n",
        "    # Build model\n",
        "    model = Sequential([\n",
        "        LSTM(64, input_shape=(n_steps, 1)),\n",
        "        Dense(1)\n",
        "    ])\n",
        "    model.compile(optimizer='adam', loss='mse')\n",
        "    model.fit(X_train, y_train_seq, epochs=30, batch_size=32, verbose=0)\n",
        "\n",
        "    # Predict and inverse scaling\n",
        "    test_pred_scaled = model.predict(X_test)\n",
        "    test_pred = scaler.inverse_transform(test_pred_scaled).flatten()\n",
        "\n",
        "    return normalized_evaluation(y_test[n_steps:], test_pred, \"LSTM\")\n",
        "\n",
        "lstm_metrics = run_lstm(y_train, y_test)"
      ],
      "metadata": {
        "colab": {
          "base_uri": "https://localhost:8080/"
        },
        "id": "mrrYexryhBKZ",
        "outputId": "62e3876a-6ea2-489e-a38a-f678a4e78f8e"
      },
      "execution_count": 51,
      "outputs": [
        {
          "output_type": "stream",
          "name": "stdout",
          "text": [
            "\n",
            "=== LSTM MODEL ===\n",
            "\u001b[1m11/11\u001b[0m \u001b[32m━━━━━━━━━━━━━━━━━━━━\u001b[0m\u001b[37m\u001b[0m \u001b[1m0s\u001b[0m 19ms/step\n",
            "\n",
            "--- LSTM ---\n",
            "Normalized MAE: 0.2337\n",
            "Normalized RMSE: 0.4496\n",
            "R² Score: 0.2108\n",
            "MAPE: 22.75%\n"
          ]
        }
      ]
    },
    {
      "cell_type": "code",
      "source": [
        "import xgboost as xgb\n",
        "\n",
        "def run_xgboost(train_df, test_df, y_train, y_test):\n",
        "    print(\"\\n=== XGBOOST MODEL ===\")\n",
        "    # Prepare features\n",
        "    X_train = train_df[['Days_Since_Start', 'Built Area']].fillna(0)\n",
        "    X_test = test_df[['Days_Since_Start', 'Built Area']].fillna(0)\n",
        "\n",
        "    # Train model\n",
        "    model = xgb.XGBRegressor(objective=\"reg:squarederror\", n_estimators=100)\n",
        "    model.fit(X_train, y_train)\n",
        "\n",
        "    # Predict\n",
        "    test_pred = model.predict(X_test)\n",
        "    return normalized_evaluation(y_test, test_pred, \"XGBoost\")\n",
        "\n",
        "xgb_metrics = run_xgboost(train_df, test_df, y_train, y_test)"
      ],
      "metadata": {
        "colab": {
          "base_uri": "https://localhost:8080/"
        },
        "id": "AsEPdbrvhBHe",
        "outputId": "b24718d9-b107-4bce-eaed-5a5254ec4268"
      },
      "execution_count": 52,
      "outputs": [
        {
          "output_type": "stream",
          "name": "stdout",
          "text": [
            "\n",
            "=== XGBOOST MODEL ===\n",
            "\n",
            "--- XGBoost ---\n",
            "Normalized MAE: 0.1786\n",
            "Normalized RMSE: 0.2570\n",
            "R² Score: 0.7417\n",
            "MAPE: 19.39%\n"
          ]
        }
      ]
    },
    {
      "cell_type": "code",
      "source": [
        "from prophet import Prophet\n",
        "import numpy as np\n",
        "\n",
        "def run_prophet(train_df, test_df, y_test):\n",
        "    print(\"\\n=== PROPHET MODEL (Train/Test Split) ===\")\n",
        "\n",
        "    # Prepare training data\n",
        "    train_data = train_df[['Planned Delivery Date', 'Unit Total']].copy()\n",
        "    train_data.columns = ['ds', 'y']\n",
        "\n",
        "    # Prepare test data (for prediction)\n",
        "    test_data = test_df[['Planned Delivery Date']].copy()\n",
        "    test_data.columns = ['ds']\n",
        "\n",
        "    # Train model\n",
        "    model = Prophet()\n",
        "    model.fit(train_data)\n",
        "\n",
        "    # Make predictions on test dates only\n",
        "    forecast = model.predict(test_data)\n",
        "    test_pred = forecast['yhat'].values\n",
        "\n",
        "    # Ensure we have matching lengths\n",
        "    if len(test_pred) != len(y_test):\n",
        "        min_length = min(len(test_pred), len(y_test))\n",
        "        test_pred = test_pred[:min_length]\n",
        "        y_test = y_test[:min_length]\n",
        "        print(f\"Adjusted lengths to match: {min_length} points\")\n",
        "\n",
        "    return normalized_evaluation(y_test, test_pred, \"Prophet\")\n",
        "\n",
        "# Run the model\n",
        "prophet_metrics = run_prophet(train_df, test_df, y_test)"
      ],
      "metadata": {
        "colab": {
          "base_uri": "https://localhost:8080/"
        },
        "id": "Az45DSduhBFC",
        "outputId": "c51d784c-66d6-4452-fc02-46536c20d7db"
      },
      "execution_count": 53,
      "outputs": [
        {
          "output_type": "stream",
          "name": "stdout",
          "text": [
            "\n",
            "=== PROPHET MODEL (Train/Test Split) ===\n"
          ]
        },
        {
          "output_type": "stream",
          "name": "stderr",
          "text": [
            "INFO:prophet:Disabling daily seasonality. Run prophet with daily_seasonality=True to override this.\n",
            "DEBUG:cmdstanpy:input tempfile: /tmp/tmp2qzvbeuy/lmvjby1v.json\n",
            "DEBUG:cmdstanpy:input tempfile: /tmp/tmp2qzvbeuy/ofr51ulf.json\n",
            "DEBUG:cmdstanpy:idx 0\n",
            "DEBUG:cmdstanpy:running CmdStan, num_threads: None\n",
            "DEBUG:cmdstanpy:CmdStan args: ['/usr/local/lib/python3.11/dist-packages/prophet/stan_model/prophet_model.bin', 'random', 'seed=59219', 'data', 'file=/tmp/tmp2qzvbeuy/lmvjby1v.json', 'init=/tmp/tmp2qzvbeuy/ofr51ulf.json', 'output', 'file=/tmp/tmp2qzvbeuy/prophet_modelcgp20js_/prophet_model-20250601223125.csv', 'method=optimize', 'algorithm=lbfgs', 'iter=10000']\n",
            "22:31:25 - cmdstanpy - INFO - Chain [1] start processing\n",
            "INFO:cmdstanpy:Chain [1] start processing\n",
            "22:31:25 - cmdstanpy - INFO - Chain [1] done processing\n",
            "INFO:cmdstanpy:Chain [1] done processing\n"
          ]
        },
        {
          "output_type": "stream",
          "name": "stdout",
          "text": [
            "\n",
            "--- Prophet ---\n",
            "Normalized MAE: 0.6150\n",
            "Normalized RMSE: 0.7027\n",
            "R² Score: -0.9311\n",
            "MAPE: 70.57%\n"
          ]
        }
      ]
    },
    {
      "cell_type": "code",
      "source": [
        "from tensorflow.keras.layers import Dense\n",
        "\n",
        "def run_neural_net(train_df, test_df, y_train, y_test):\n",
        "    print(\"\\n=== NEURAL NETWORK ===\")\n",
        "    # Prepare features\n",
        "    X_train = train_df[['Days_Since_Start', 'Built Area']].fillna(0).values\n",
        "    X_test = test_df[['Days_Since_Start', 'Built Area']].fillna(0).values\n",
        "\n",
        "    # Scale features\n",
        "    scaler = MinMaxScaler()\n",
        "    X_train_scaled = scaler.fit_transform(X_train)\n",
        "    X_test_scaled = scaler.transform(X_test)\n",
        "\n",
        "    # Build model\n",
        "    model = Sequential([\n",
        "        Dense(64, activation='relu', input_shape=(X_train_scaled.shape[1],)),\n",
        "        Dense(32, activation='relu'),\n",
        "        Dense(1)\n",
        "    ])\n",
        "    model.compile(optimizer='adam', loss='mse')\n",
        "    model.fit(X_train_scaled, y_train, epochs=100, batch_size=32, verbose=0)\n",
        "\n",
        "    # Predict\n",
        "    test_pred = model.predict(X_test_scaled).flatten()\n",
        "    return normalized_evaluation(y_test, test_pred, \"Neural Network\")\n",
        "\n",
        "nn_metrics = run_neural_net(train_df, test_df, y_train, y_test)"
      ],
      "metadata": {
        "colab": {
          "base_uri": "https://localhost:8080/"
        },
        "id": "QFfQQ6CKa_6R",
        "outputId": "ac192ace-b184-4467-bacd-b408abf291ba"
      },
      "execution_count": 54,
      "outputs": [
        {
          "output_type": "stream",
          "name": "stdout",
          "text": [
            "\n",
            "=== NEURAL NETWORK ===\n",
            "\u001b[1m11/11\u001b[0m \u001b[32m━━━━━━━━━━━━━━━━━━━━\u001b[0m\u001b[37m\u001b[0m \u001b[1m0s\u001b[0m 7ms/step \n",
            "\n",
            "--- Neural Network ---\n",
            "Normalized MAE: 0.9684\n",
            "Normalized RMSE: 1.0920\n",
            "R² Score: -3.6639\n",
            "MAPE: 96.48%\n"
          ]
        }
      ]
    },
    {
      "cell_type": "code",
      "source": [],
      "metadata": {
        "id": "4tN6NFVRomvT"
      },
      "execution_count": 54,
      "outputs": []
    },
    {
      "cell_type": "code",
      "source": [
        "#Prediction"
      ],
      "metadata": {
        "id": "BfQEpFGCONJE"
      },
      "execution_count": 75,
      "outputs": []
    },
    {
      "cell_type": "code",
      "source": [
        "import pandas as pd\n",
        "from datetime import datetime\n",
        "import numpy as np\n",
        "from google.colab import drive\n",
        "\n",
        "# Mount Google Drive\n",
        "drive.mount('/content/drive')\n",
        "\n",
        "def load_data(filepath):\n",
        "    \"\"\"Load the Excel file\"\"\"\n",
        "    return pd.read_excel(\n",
        "        filepath,\n",
        "        skiprows=4,\n",
        "        engine='openpyxl',\n",
        "        dtype={'Unit Code': str}\n",
        "    )\n",
        "\n",
        "def clean_data(df):\n",
        "    \"\"\"Clean and prepare the data\"\"\"\n",
        "    # Create unique identifier\n",
        "    df['Unit_Identifier'] = df['Project'] + \" - \" + df['Unit Type'] + \" - \" + df['Unit Code']\n",
        "\n",
        "    # Clean price\n",
        "    df['Price'] = (\n",
        "        df['Unit Total with Finishing Price']\n",
        "        .astype(str)\n",
        "        .str.replace('[^\\d.]', '', regex=True)\n",
        "        .replace('', np.nan)\n",
        "        .astype(float)\n",
        "    )\n",
        "\n",
        "    # Clean area (use built area or fallback to land area)\n",
        "    df['Area'] = (\n",
        "        df[' Built Area  (Pricing Structure)']\n",
        "        .astype(str)\n",
        "        .str.replace(',', '')\n",
        "        .replace('', np.nan)\n",
        "        .fillna(df[' Land Area  (Pricing Structure)'])\n",
        "        .astype(float)\n",
        "    )\n",
        "\n",
        "    return df.dropna(subset=['Price', 'Area'])\n",
        "\n",
        "def generate_predictions(df):\n",
        "    \"\"\"Generate price predictions for next 2 months\"\"\"\n",
        "    forecasts = []\n",
        "    current_date = datetime.now()\n",
        "\n",
        "    for _, unit_data in df.iterrows():\n",
        "        for months_ahead in [1, 2]:  # Next month and month after\n",
        "            prediction_date = current_date.replace(day=1) + pd.DateOffset(months=months_ahead)\n",
        "            predicted_price = unit_data['Price'] * (1.015 ** months_ahead)  # 1.5% monthly growth\n",
        "\n",
        "            forecasts.append({\n",
        "                'Project': unit_data['Project'],\n",
        "                'Stage': unit_data['Stage'],\n",
        "                'Unit Type': unit_data['Unit Type'],\n",
        "                'Unit Code': unit_data['Unit Code'],\n",
        "                'Area (m²)': unit_data['Area'],\n",
        "                'Current Price': unit_data['Price'],\n",
        "                'Prediction Month': prediction_date.strftime('%Y-%m'),\n",
        "                'Predicted Price': predicted_price,\n",
        "                'Price/m²': predicted_price / unit_data['Area']\n",
        "            })\n",
        "\n",
        "    return pd.DataFrame(forecasts)\n",
        "\n",
        "def format_output(df):\n",
        "    \"\"\"Create the exact requested output format\"\"\"\n",
        "    # Format currency\n",
        "    df['Formatted Current Price'] = df['Current Price'].apply(lambda x: f\"EGP {x:,.2f}\")\n",
        "    df['Formatted Predicted Price'] = df['Predicted Price'].apply(lambda x: f\"EGP {x:,.2f}\")\n",
        "    df['Formatted Price/m²'] = df['Price/m²'].apply(lambda x: f\"EGP {x:,.2f}\")\n",
        "\n",
        "    # Select only the requested columns\n",
        "    return df[[\n",
        "        'Project', 'Stage', 'Unit Type', 'Unit Code', 'Area (m²)',\n",
        "        'Formatted Current Price', 'Formatted Predicted Price', 'Formatted Price/m²',\n",
        "        'Prediction Month'\n",
        "    ]]\n",
        "\n",
        "# Main execution\n",
        "if __name__ == \"__main__\":\n",
        "    # 1. Load and clean data\n",
        "    filepath = '/content/drive/MyDrive/real_estate.xlsx'  # UPDATE THIS PATH\n",
        "    df = load_data(filepath)\n",
        "    clean_df = clean_data(df)\n",
        "\n",
        "    # 2. Generate predictions\n",
        "    predictions = generate_predictions(clean_df)\n",
        "    formatted_output = format_output(predictions)\n",
        "\n",
        "    # 3. Print sample (first 5 units)\n",
        "    print(\"Sample of Predicted Prices (First 5 Units):\")\n",
        "    sample_output = formatted_output.head().drop(columns=['Prediction Month'])\n",
        "    print(sample_output.to_markdown(tablefmt=\"grid\", index=False))\n",
        "\n",
        "    # 4. Save all predictions to Excel (with Prediction Month as separate column)\n",
        "    output_path = '/content/drive/MyDrive/all_projects_predictions.xlsx'\n",
        "\n",
        "    # Pivot to get months as columns\n",
        "    final_output = formatted_output.pivot(\n",
        "        index=['Project', 'Stage', 'Unit Type', 'Unit Code', 'Area (m²)', 'Formatted Current Price'],\n",
        "        columns='Prediction Month',\n",
        "        values=['Formatted Predicted Price', 'Formatted Price/m²']\n",
        "    )\n",
        "    final_output.columns = [f\"{col[0]} {col[1]}\" for col in final_output.columns]\n",
        "    final_output.reset_index(inplace=True)\n",
        "\n",
        "    final_output.to_excel(output_path, index=False)\n",
        "    print(f\"\\nFull predictions saved to: {output_path}\")"
      ],
      "metadata": {
        "colab": {
          "base_uri": "https://localhost:8080/"
        },
        "id": "nS4VJcGEONAy",
        "outputId": "2f1481ec-455b-4222-897b-88ddd5ed6e0a"
      },
      "execution_count": 55,
      "outputs": [
        {
          "output_type": "stream",
          "name": "stdout",
          "text": [
            "Drive already mounted at /content/drive; to attempt to forcibly remount, call drive.mount(\"/content/drive\", force_remount=True).\n",
            "Sample of Predicted Prices (First 5 Units):\n",
            "+-----------+------------------+-------------+--------------+-------------+---------------------------+-----------------------------+----------------------+\n",
            "| Project   | Stage            | Unit Type   | Unit Code    |   Area (m²) | Formatted Current Price   | Formatted Predicted Price   | Formatted Price/m²   |\n",
            "+===========+==================+=============+==============+=============+===========================+=============================+======================+\n",
            "| Badya     | Badya-District 2 | Apartment   | D2A8-02-0101 |      160.02 | EGP 15,807,412.00         | EGP 16,044,523.18           | EGP 100,265.74       |\n",
            "+-----------+------------------+-------------+--------------+-------------+---------------------------+-----------------------------+----------------------+\n",
            "| Badya     | Badya-District 2 | Apartment   | D2A8-02-0101 |      160.02 | EGP 15,807,412.00         | EGP 16,285,191.03           | EGP 101,769.72       |\n",
            "+-----------+------------------+-------------+--------------+-------------+---------------------------+-----------------------------+----------------------+\n",
            "| Badya     | Badya-District 2 | Apartment   | D2A8-02-0102 |      147.12 | EGP 14,984,672.00         | EGP 15,209,442.08           | EGP 103,381.20       |\n",
            "+-----------+------------------+-------------+--------------+-------------+---------------------------+-----------------------------+----------------------+\n",
            "| Badya     | Badya-District 2 | Apartment   | D2A8-02-0102 |      147.12 | EGP 14,984,672.00         | EGP 15,437,583.71           | EGP 104,931.92       |\n",
            "+-----------+------------------+-------------+--------------+-------------+---------------------------+-----------------------------+----------------------+\n",
            "| Badya     | Badya-District 2 | Apartment   | D2A8-02-0112 |      127.14 | EGP 11,849,084.00         | EGP 12,026,820.26           | EGP 94,595.09        |\n",
            "+-----------+------------------+-------------+--------------+-------------+---------------------------+-----------------------------+----------------------+\n",
            "\n",
            "Full predictions saved to: /content/drive/MyDrive/all_projects_predictions.xlsx\n"
          ]
        }
      ]
    },
    {
      "cell_type": "code",
      "source": [],
      "metadata": {
        "id": "LK4JDTziOM7y"
      },
      "execution_count": 55,
      "outputs": []
    },
    {
      "cell_type": "code",
      "source": [],
      "metadata": {
        "id": "6D-r8mOQOM1h"
      },
      "execution_count": 55,
      "outputs": []
    },
    {
      "cell_type": "code",
      "source": [],
      "metadata": {
        "id": "a1eMLurmOMrT"
      },
      "execution_count": 55,
      "outputs": []
    },
    {
      "cell_type": "code",
      "source": [
        "import pandas as pd\n",
        "import numpy as np\n",
        "import matplotlib.pyplot as plt\n",
        "from sklearn.ensemble import RandomForestRegressor\n",
        "\n",
        "# Sample data until May 2025 (month 5)\n",
        "dates = pd.date_range('2024-07-01', '2025-05-01', freq='MS')\n",
        "actual_prices = [18.5, 18.4, 18.9, 19.6, 20.1, 22.3, 23.9, 25.4, 27.3, 27.3, 27.1]\n",
        "\n",
        "# Create DataFrame\n",
        "df = pd.DataFrame({\n",
        "    'Date': dates,\n",
        "    'Actual': actual_prices,\n",
        "    'Month': dates.month,\n",
        "    'Days_Since_Start': (dates - dates[0]).days\n",
        "})\n",
        "\n",
        "# Train model\n",
        "model = RandomForestRegressor(n_estimators=100, random_state=42)\n",
        "model.fit(df[['Month', 'Days_Since_Start']], df['Actual'])\n",
        "\n",
        "# Generate predictions\n",
        "df['Predicted'] = model.predict(df[['Month', 'Days_Since_Start']])\n",
        "\n",
        "# Create visualization\n",
        "plt.figure(figsize=(12, 6))\n",
        "\n",
        "# Plot actual prices (blue line)\n",
        "plt.plot(df['Date'], df['Actual'], 'b-o', linewidth=2, markersize=6, label='Actual Prices')\n",
        "\n",
        "# Plot predicted prices (red dashed line)\n",
        "plt.plot(df['Date'], df['Predicted'], 'r--', linewidth=2, label='Predicted Prices')\n",
        "\n",
        "# Formatting\n",
        "plt.ylim(18, 28)\n",
        "plt.yticks([18, 20, 22, 24, 26])\n",
        "plt.xticks(pd.date_range('2024-07-01', '2025-05-01', freq='2MS'),\n",
        "           ['2024-07', '2024-09', '2024-11', '2025-01', '2025-03', '2025-05'])\n",
        "\n",
        "plt.title('Real Estate Price: Actual vs Predicted (Jul 2024 - May 2025)', fontsize=14)\n",
        "plt.xlabel('Date', fontsize=12)\n",
        "plt.ylabel('Price ($M)', fontsize=12)\n",
        "plt.legend()\n",
        "plt.grid(True, alpha=0.3)\n",
        "plt.tight_layout()\n",
        "plt.show()\n"
      ],
      "metadata": {
        "id": "Gii2wWETvGt0",
        "colab": {
          "base_uri": "https://localhost:8080/",
          "height": 569
        },
        "outputId": "4c82c80f-a4dd-480a-a6b5-36547ac27821"
      },
      "execution_count": 74,
      "outputs": [
        {
          "output_type": "display_data",
          "data": {
            "text/plain": [
              "<Figure size 1200x600 with 1 Axes>"
            ],
            "image/png": "[encoded data removed]"
          },
          "metadata": {}
        }
      ]
    },
    {
      "cell_type": "code",
      "source": [],
      "metadata": {
        "id": "AvwlDNu4qv3R"
      },
      "execution_count": 56,
      "outputs": []
    },
    {
      "cell_type": "code",
      "source": [],
      "metadata": {
        "id": "zS_44xTpZD7y"
      },
      "execution_count": 72,
      "outputs": []
    },
    {
      "cell_type": "code",
      "source": [],
      "metadata": {
        "id": "bWsjdLNpnU6a"
      },
      "execution_count": 72,
      "outputs": []
    },
    {
      "cell_type": "code",
      "source": [],
      "metadata": {
        "id": "AuW5FSe8nU2S"
      },
      "execution_count": 72,
      "outputs": []
    },
    {
      "cell_type": "code",
      "source": [],
      "metadata": {
        "id": "zJEB1170nUzC"
      },
      "execution_count": 72,
      "outputs": []
    },
    {
      "cell_type": "code",
      "source": [],
      "metadata": {
        "id": "MPPQ2OR1nUpX"
      },
      "execution_count": 72,
      "outputs": []
    },
    {
      "cell_type": "code",
      "source": [],
      "metadata": {
        "id": "7TBWU9ffneGn"
      },
      "execution_count": 72,
      "outputs": []
    },
    {
      "cell_type": "code",
      "source": [],
      "metadata": {
        "id": "B2SwoW1hneCc"
      },
      "execution_count": 62,
      "outputs": []
    },
    {
      "cell_type": "code",
      "source": [
        "#overfitting analysis"
      ],
      "metadata": {
        "id": "2e1ncqVCHsmN"
      },
      "execution_count": 63,
      "outputs": []
    },
    {
      "cell_type": "code",
      "source": [],
      "metadata": {
        "id": "ZSf76E5FHw5A"
      },
      "execution_count": 63,
      "outputs": []
    },
    {
      "cell_type": "code",
      "source": [],
      "metadata": {
        "id": "KSg9WrLNHw2W"
      },
      "execution_count": 63,
      "outputs": []
    },
    {
      "cell_type": "code",
      "source": [],
      "metadata": {
        "id": "JK95w-bqHwzt"
      },
      "execution_count": 63,
      "outputs": []
    },
    {
      "cell_type": "code",
      "source": [],
      "metadata": {
        "id": "NX7zoJLkHwxM"
      },
      "execution_count": 63,
      "outputs": []
    },
    {
      "cell_type": "code",
      "source": [],
      "metadata": {
        "id": "_93-v7MfHwut"
      },
      "execution_count": 63,
      "outputs": []
    },
    {
      "cell_type": "code",
      "source": [],
      "metadata": {
        "id": "5bsv-XTDHwsU"
      },
      "execution_count": 63,
      "outputs": []
    },
    {
      "cell_type": "code",
      "source": [
        "########"
      ],
      "metadata": {
        "id": "03uMeAGmHwp1"
      },
      "execution_count": 64,
      "outputs": []
    },
    {
      "cell_type": "code",
      "source": [],
      "metadata": {
        "id": "HJPztEIBHwm9"
      },
      "execution_count": 64,
      "outputs": []
    },
    {
      "cell_type": "code",
      "source": [
        "import matplotlib.pyplot as plt\n",
        "import numpy as np\n",
        "\n",
        "def compare_results(metrics_dict):\n",
        "    # Define consistent model order (best to worst by NRMSE)\n",
        "    model_order = ['XGBoost', 'LSTM', 'ARIMA', 'SARIMA', 'Neural Net', 'Prophet']\n",
        "    metrics = ['NMAE', 'NRMSE', 'MAPE', 'R2']\n",
        "\n",
        "    # Create figure with improved spacing and padding\n",
        "    fig, axs = plt.subplots(2, 2, figsize=(16, 12))\n",
        "    fig.suptitle('Model Performance Comparison (All Models)', fontsize=16, fontweight='bold', y=1.05)\n",
        "\n",
        "    # Custom colors and styling\n",
        "    colors = ['#2ca02c', '#1f77b4', '#ff7f0e', '#d62728', '#7f7f7f', '#9467bd']\n",
        "    highlight_color = '#ff0000'\n",
        "\n",
        "    for i, metric in enumerate(metrics):\n",
        "        ax = axs[i//2, i%2]\n",
        "        values = [metrics_dict[m][metric] for m in model_order]\n",
        "\n",
        "        # Special handling for R2 normalization\n",
        "        if metric == 'R2':\n",
        "            r2_min, r2_max = min(values), max(values)\n",
        "            normalized = [(v - r2_min)/(r2_max - r2_min) if r2_max != r2_min else 0.5 for v in values]\n",
        "            bars = ax.bar(model_order, normalized, color=colors)\n",
        "            ax.set_ylim(0, 1.2)\n",
        "\n",
        "            # Add original R2 values\n",
        "            for bar, val in zip(bars, values):\n",
        "                ax.text(bar.get_x() + bar.get_width()/2, bar.get_height() + 0.05, f'{val:.3f}',\n",
        "                        ha='center', fontsize=12, fontweight='bold')\n",
        "        else:\n",
        "            # For other metrics, we'll handle extreme outliers (Prophet) differently\n",
        "            clean_values = []\n",
        "            has_outlier = False\n",
        "            outlier_val = None\n",
        "            outlier_idx = None\n",
        "\n",
        "            # Identify if there's a significant outlier (like Prophet's values)\n",
        "            for idx, val in enumerate(values):\n",
        "                if metric == 'NMAE' and val > 1:  # Prophet's NMAE is 7.796\n",
        "                    has_outlier = True\n",
        "                    outlier_val = val\n",
        "                    outlier_idx = idx\n",
        "                    clean_values.append(np.nan)\n",
        "                elif metric == 'MAPE' and val > 100:  # Prophet's MAPE is 875.34\n",
        "                    has_outlier = True\n",
        "                    outlier_val = val\n",
        "                    outlier_idx = idx\n",
        "                    clean_values.append(np.nan)\n",
        "                elif metric == 'NRMSE' and val > 1:  # Prophet's NRMSE is 12.821\n",
        "                    has_outlier = True\n",
        "                    outlier_val = val\n",
        "                    outlier_idx = idx\n",
        "                    clean_values.append(np.nan)\n",
        "                else:\n",
        "                    clean_values.append(val)\n",
        "\n",
        "            if has_outlier:\n",
        "                # Plot the main bars without the outlier\n",
        "                bars = ax.bar(model_order, clean_values, color=colors)\n",
        "\n",
        "                # Set y-axis limit based on non-outlier values\n",
        "                non_outlier_values = [v for v in clean_values if not np.isnan(v)]\n",
        "                y_max = max(non_outlier_values) * 1.4\n",
        "                ax.set_ylim(0, y_max)\n",
        "\n",
        "                # Add value labels\n",
        "                for bar, val in zip(bars, clean_values):\n",
        "                    if not np.isnan(val):\n",
        "                        ax.text(bar.get_x() + bar.get_width()/2, bar.get_height() + 0.02*y_max, f'{val:.3f}',\n",
        "                                ha='center', fontsize=12, fontweight='bold')\n",
        "\n",
        "                # Add the outlier as a separate annotation\n",
        "                ax.text(outlier_idx, y_max*0.9, f'{outlier_val:.1f}',\n",
        "                        ha='center', fontsize=12, fontweight='bold', color='red')\n",
        "                ax.plot([outlier_idx-0.4, outlier_idx+0.4], [y_max*0.85, y_max*0.85],\n",
        "                        color='red', linestyle='-', linewidth=2)\n",
        "            else:\n",
        "                # No outlier case - normal plotting\n",
        "                y_max = max(values) * 1.4\n",
        "                bars = ax.bar(model_order, values, color=colors)\n",
        "                ax.set_ylim(0, y_max)\n",
        "\n",
        "                # Add value labels\n",
        "                for bar, val in zip(bars, values):\n",
        "                    ax.text(bar.get_x() + bar.get_width()/2, bar.get_height() + 0.02*y_max, f'{val:.3f}',\n",
        "                            ha='center', fontsize=12, fontweight='bold')\n",
        "\n",
        "        # Formatting\n",
        "        ax.set_title(f'{metric} ({ \"Higher\" if metric == \"R2\" else \"Lower\"} Better)', fontsize=14, fontweight='bold')\n",
        "        ax.tick_params(axis='x', rotation=30)\n",
        "\n",
        "        # Highlight best performer (excluding outliers)\n",
        "        if metric == 'R2':\n",
        "            best_idx = np.argmax(values)\n",
        "        else:\n",
        "            if has_outlier:\n",
        "                # Find best among non-outliers\n",
        "                non_outlier_indices = [i for i, v in enumerate(clean_values) if not np.isnan(v)]\n",
        "                non_outlier_values = [values[i] for i in non_outlier_indices]\n",
        "                best_non_outlier_idx = np.argmin(non_outlier_values)\n",
        "                best_idx = non_outlier_indices[best_non_outlier_idx]\n",
        "            else:\n",
        "                best_idx = np.argmin(values)\n",
        "\n",
        "        bars[best_idx].set_edgecolor(highlight_color)\n",
        "        bars[best_idx].set_linewidth(2)\n",
        "\n",
        "    # Improved legend positioning outside the plot\n",
        "    fig.legend(model_order, title=\"Models\", loc=\"upper right\", bbox_to_anchor=(1.15, 1), fontsize=12, frameon=False)\n",
        "\n",
        "    plt.tight_layout()\n",
        "    plt.show()\n",
        "\n",
        "# Updated metrics with corrected MAPE value (875.34 instead of 87.5.340)\n",
        "all_metrics = {\n",
        "    'ARIMA': {'NMAE': 0.254, 'NRMSE': 0.505, 'MAPE': 24.090, 'R2': 0.095},\n",
        "    'LSTM': {'NMAE': 0.319, 'NRMSE': 0.488, 'MAPE': 34.090, 'R2': 0.070},\n",
        "    'SARIMA': {'NMAE': 0.458, 'NRMSE': 0.702, 'MAPE': 39.770, 'R2': 0.126},\n",
        "    'XGBoost': {'NMAE': 0.179, 'NRMSE': 0.257, 'MAPE': 19.390, 'R2': 0.242},\n",
        "    'Prophet': {'NMAE': 0.809, 'NRMSE': 0.732, 'MAPE': 40.035, 'R2': 0.050},\n",
        "    'Neural Net': {'NMAE': 0.980, 'NRMSE': 0.702, 'MAPE': 97.750, 'R2': 0.052}\n",
        "}\n",
        "\n",
        "compare_results(all_metrics)"
      ],
      "metadata": {
        "id": "bkc3IVsQbNZa",
        "colab": {
          "base_uri": "https://localhost:8080/",
          "height": 784
        },
        "outputId": "f80fab71-ceeb-407c-9bc7-4efe6e2e4e49"
      },
      "execution_count": 65,
      "outputs": [
        {
          "output_type": "display_data",
          "data": {
            "text/plain": [
              "<Figure size 1600x1200 with 4 Axes>"
            ],
            "image/png": "[encoded data removed]"
          },
          "metadata": {}
        }
      ]
    },
    {
      "cell_type": "code",
      "source": [
        "# First, let's properly load the data skipping the initial rows\n",
        "import pandas as pd\n",
        "import numpy as np\n",
        "import matplotlib.pyplot as plt\n",
        "import seaborn as sns\n",
        "\n",
        "# Load the Excel file, skipping the first 3 rows which contain headers and empty rows\n",
        "df = pd.read_excel(\"/content/drive/MyDrive/real_estate.xlsx\", skiprows=3)\n",
        "\n",
        "# Display the first few rows to check\n",
        "df.head()"
      ],
      "metadata": {
        "id": "M04LqhWyhBCg",
        "colab": {
          "base_uri": "https://localhost:8080/",
          "height": 568
        },
        "outputId": "2b31dda0-3b7d-4bc3-8d51-b0bfccb93f4b"
      },
      "execution_count": 66,
      "outputs": [
        {
          "output_type": "execute_result",
          "data": {
            "text/plain": [
              "  Unnamed: 0        Unnamed: 1                  Unnamed: 2 Unnamed: 3  \\\n",
              "0    Project             Stage                    Category  Unit Type   \n",
              "1      Badya  Badya-District 2   Badya-Trio D-3 Bed-Garden  Apartment   \n",
              "2      Badya  Badya-District 2   Badya-Trio D-3 Bed-Garden  Apartment   \n",
              "3      Badya  Badya-District 2  Badya-Trio D-2 Bed-Typical  Apartment   \n",
              "4      Badya  Badya-District 2  Badya-Trio D-2 Bed-Typical  Apartment   \n",
              "\n",
              "     Unnamed: 4                       Unnamed: 5             Unnamed: 6  \\\n",
              "0     Unit Code  Grand Total (Pricing Structure)  Total Finishing Price   \n",
              "1  D2A8-02-0101                         12511000                3296412   \n",
              "2  D2A8-02-0102                         11954000                3030672   \n",
              "3  D2A8-02-0112                          9230000                2619084   \n",
              "4  D2A8-02-0122                          9230000                2619084   \n",
              "\n",
              "                        Unnamed: 7             Unnamed: 8  \\\n",
              "0  Unit Total with Finishing Price  Planned Delivery Date   \n",
              "1                         15807412    2030-06-30 00:00:00   \n",
              "2                         14984672    2030-06-30 00:00:00   \n",
              "3                         11849084    2030-06-30 00:00:00   \n",
              "4                         11849084    2030-06-30 00:00:00   \n",
              "\n",
              "             Unnamed: 9  ...                           Unnamed: 15  \\\n",
              "0  Actual Delivery Date  ...   Penthouse Area  (Pricing Structure)   \n",
              "1                   NaN  ...                                     0   \n",
              "2                   NaN  ...                                     0   \n",
              "3                   NaN  ...                                     0   \n",
              "4                   NaN  ...                                     0   \n",
              "\n",
              "                                    Unnamed: 16  \\\n",
              "0   Semi Covered Roof Area  (Pricing Structure)   \n",
              "1                                             0   \n",
              "2                                             0   \n",
              "3                                             0   \n",
              "4                                             0   \n",
              "\n",
              "                       Unnamed: 17                                Unnamed: 18  \\\n",
              "0   Roof Area  (Pricing Structure)  Garden / Outdoor Area (Pricing Structure)   \n",
              "1                                0                                      60.24   \n",
              "2                                0                                      70.61   \n",
              "3                                0                                          0   \n",
              "4                                0                                          0   \n",
              "\n",
              "                         Unnamed: 19                          Unnamed: 20  \\\n",
              "0   Garage Area  (Pricing Structure)    Pergola Area  (Pricing Structure)   \n",
              "1                                  0                                    0   \n",
              "2                                  0                                    0   \n",
              "3                                  0                                    0   \n",
              "4                                  0                                    0   \n",
              "\n",
              "                          Unnamed: 21  \\\n",
              "0   Storage Area  (Pricing Structure)   \n",
              "1                                   0   \n",
              "2                                   0   \n",
              "3                                   0   \n",
              "4                                   0   \n",
              "\n",
              "                                Unnamed: 22      Unnamed: 23  \\\n",
              "0   Extra BuiltUp Area  (Pricing Structure)  Finishing Specs   \n",
              "1                                         0     FFAI-BD-D2A8   \n",
              "2                                         0     FFAI-BD-D2A8   \n",
              "3                                         0     FFAI-BD-D2A8   \n",
              "4                                         0     FFAI-BD-D2A8   \n",
              "\n",
              "                  Unnamed: 24  \n",
              "0   Club  (Pricing Structure)  \n",
              "1                      320000  \n",
              "2                      320000  \n",
              "3                      320000  \n",
              "4                      320000  \n",
              "\n",
              "[5 rows x 25 columns]"
            ],
            "text/html": [
              "\n",
              "  <div id=\"df-010f1839-a2ce-4166-9c49-18bf13e03a07\" class=\"colab-df-container\">\n",
              "    <div>\n",
              "<style scoped>\n",
              "    .dataframe tbody tr th:only-of-type {\n",
              "        vertical-align: middle;\n",
              "    }\n",
              "\n",
              "    .dataframe tbody tr th {\n",
              "        vertical-align: top;\n",
              "    }\n",
              "\n",
              "    .dataframe thead th {\n",
              "        text-align: right;\n",
              "    }\n",
              "</style>\n",
              "<table border=\"1\" class=\"dataframe\">\n",
              "  <thead>\n",
              "    <tr style=\"text-align: right;\">\n",
              "      <th></th>\n",
              "      <th>Unnamed: 0</th>\n",
              "      <th>Unnamed: 1</th>\n",
              "      <th>Unnamed: 2</th>\n",
              "      <th>Unnamed: 3</th>\n",
              "      <th>Unnamed: 4</th>\n",
              "      <th>Unnamed: 5</th>\n",
              "      <th>Unnamed: 6</th>\n",
              "      <th>Unnamed: 7</th>\n",
              "      <th>Unnamed: 8</th>\n",
              "      <th>Unnamed: 9</th>\n",
              "      <th>...</th>\n",
              "      <th>Unnamed: 15</th>\n",
              "      <th>Unnamed: 16</th>\n",
              "      <th>Unnamed: 17</th>\n",
              "      <th>Unnamed: 18</th>\n",
              "      <th>Unnamed: 19</th>\n",
              "      <th>Unnamed: 20</th>\n",
              "      <th>Unnamed: 21</th>\n",
              "      <th>Unnamed: 22</th>\n",
              "      <th>Unnamed: 23</th>\n",
              "      <th>Unnamed: 24</th>\n",
              "    </tr>\n",
              "  </thead>\n",
              "  <tbody>\n",
              "    <tr>\n",
              "      <th>0</th>\n",
              "      <td>Project</td>\n",
              "      <td>Stage</td>\n",
              "      <td>Category</td>\n",
              "      <td>Unit Type</td>\n",
              "      <td>Unit Code</td>\n",
              "      <td>Grand Total (Pricing Structure)</td>\n",
              "      <td>Total Finishing Price</td>\n",
              "      <td>Unit Total with Finishing Price</td>\n",
              "      <td>Planned Delivery Date</td>\n",
              "      <td>Actual Delivery Date</td>\n",
              "      <td>...</td>\n",
              "      <td>Penthouse Area  (Pricing Structure)</td>\n",
              "      <td>Semi Covered Roof Area  (Pricing Structure)</td>\n",
              "      <td>Roof Area  (Pricing Structure)</td>\n",
              "      <td>Garden / Outdoor Area (Pricing Structure)</td>\n",
              "      <td>Garage Area  (Pricing Structure)</td>\n",
              "      <td>Pergola Area  (Pricing Structure)</td>\n",
              "      <td>Storage Area  (Pricing Structure)</td>\n",
              "      <td>Extra BuiltUp Area  (Pricing Structure)</td>\n",
              "      <td>Finishing Specs</td>\n",
              "      <td>Club  (Pricing Structure)</td>\n",
              "    </tr>\n",
              "    <tr>\n",
              "      <th>1</th>\n",
              "      <td>Badya</td>\n",
              "      <td>Badya-District 2</td>\n",
              "      <td>Badya-Trio D-3 Bed-Garden</td>\n",
              "      <td>Apartment</td>\n",
              "      <td>D2A8-02-0101</td>\n",
              "      <td>12511000</td>\n",
              "      <td>3296412</td>\n",
              "      <td>15807412</td>\n",
              "      <td>2030-06-30 00:00:00</td>\n",
              "      <td>NaN</td>\n",
              "      <td>...</td>\n",
              "      <td>0</td>\n",
              "      <td>0</td>\n",
              "      <td>0</td>\n",
              "      <td>60.24</td>\n",
              "      <td>0</td>\n",
              "      <td>0</td>\n",
              "      <td>0</td>\n",
              "      <td>0</td>\n",
              "      <td>FFAI-BD-D2A8</td>\n",
              "      <td>320000</td>\n",
              "    </tr>\n",
              "    <tr>\n",
              "      <th>2</th>\n",
              "      <td>Badya</td>\n",
              "      <td>Badya-District 2</td>\n",
              "      <td>Badya-Trio D-3 Bed-Garden</td>\n",
              "      <td>Apartment</td>\n",
              "      <td>D2A8-02-0102</td>\n",
              "      <td>11954000</td>\n",
              "      <td>3030672</td>\n",
              "      <td>14984672</td>\n",
              "      <td>2030-06-30 00:00:00</td>\n",
              "      <td>NaN</td>\n",
              "      <td>...</td>\n",
              "      <td>0</td>\n",
              "      <td>0</td>\n",
              "      <td>0</td>\n",
              "      <td>70.61</td>\n",
              "      <td>0</td>\n",
              "      <td>0</td>\n",
              "      <td>0</td>\n",
              "      <td>0</td>\n",
              "      <td>FFAI-BD-D2A8</td>\n",
              "      <td>320000</td>\n",
              "    </tr>\n",
              "    <tr>\n",
              "      <th>3</th>\n",
              "      <td>Badya</td>\n",
              "      <td>Badya-District 2</td>\n",
              "      <td>Badya-Trio D-2 Bed-Typical</td>\n",
              "      <td>Apartment</td>\n",
              "      <td>D2A8-02-0112</td>\n",
              "      <td>9230000</td>\n",
              "      <td>2619084</td>\n",
              "      <td>11849084</td>\n",
              "      <td>2030-06-30 00:00:00</td>\n",
              "      <td>NaN</td>\n",
              "      <td>...</td>\n",
              "      <td>0</td>\n",
              "      <td>0</td>\n",
              "      <td>0</td>\n",
              "      <td>0</td>\n",
              "      <td>0</td>\n",
              "      <td>0</td>\n",
              "      <td>0</td>\n",
              "      <td>0</td>\n",
              "      <td>FFAI-BD-D2A8</td>\n",
              "      <td>320000</td>\n",
              "    </tr>\n",
              "    <tr>\n",
              "      <th>4</th>\n",
              "      <td>Badya</td>\n",
              "      <td>Badya-District 2</td>\n",
              "      <td>Badya-Trio D-2 Bed-Typical</td>\n",
              "      <td>Apartment</td>\n",
              "      <td>D2A8-02-0122</td>\n",
              "      <td>9230000</td>\n",
              "      <td>2619084</td>\n",
              "      <td>11849084</td>\n",
              "      <td>2030-06-30 00:00:00</td>\n",
              "      <td>NaN</td>\n",
              "      <td>...</td>\n",
              "      <td>0</td>\n",
              "      <td>0</td>\n",
              "      <td>0</td>\n",
              "      <td>0</td>\n",
              "      <td>0</td>\n",
              "      <td>0</td>\n",
              "      <td>0</td>\n",
              "      <td>0</td>\n",
              "      <td>FFAI-BD-D2A8</td>\n",
              "      <td>320000</td>\n",
              "    </tr>\n",
              "  </tbody>\n",
              "</table>\n",
              "<p>5 rows × 25 columns</p>\n",
              "</div>\n",
              "    <div class=\"colab-df-buttons\">\n",
              "\n",
              "  <div class=\"colab-df-container\">\n",
              "    <button class=\"colab-df-convert\" onclick=\"convertToInteractive('df-010f1839-a2ce-4166-9c49-18bf13e03a07')\"\n",
              "            title=\"Convert this dataframe to an interactive table.\"\n",
              "            style=\"display:none;\">\n",
              "\n",
              "  <svg xmlns=\"http://www.w3.org/2000/svg\" height=\"24px\" viewBox=\"0 -960 960 960\">\n",
              "    <path d=\"M120-120v-720h720v720H120Zm60-500h600v-160H180v160Zm220 220h160v-160H400v160Zm0 220h160v-160H400v160ZM180-400h160v-160H180v160Zm440 0h160v-160H620v160ZM180-180h160v-160H180v160Zm440 0h160v-160H620v160Z\"/>\n",
              "  </svg>\n",
              "    </button>\n",
              "\n",
              "  <style>\n",
              "    .colab-df-container {\n",
              "      display:flex;\n",
              "      gap: 12px;\n",
              "    }\n",
              "\n",
              "    .colab-df-convert {\n",
              "      background-color: #E8F0FE;\n",
              "      border: none;\n",
              "      border-radius: 50%;\n",
              "      cursor: pointer;\n",
              "      display: none;\n",
              "      fill: #1967D2;\n",
              "      height: 32px;\n",
              "      padding: 0 0 0 0;\n",
              "      width: 32px;\n",
              "    }\n",
              "\n",
              "    .colab-df-convert:hover {\n",
              "      background-color: #E2EBFA;\n",
              "      box-shadow: 0px 1px 2px rgba(60, 64, 67, 0.3), 0px 1px 3px 1px rgba(60, 64, 67, 0.15);\n",
              "      fill: #174EA6;\n",
              "    }\n",
              "\n",
              "    .colab-df-buttons div {\n",
              "      margin-bottom: 4px;\n",
              "    }\n",
              "\n",
              "    [theme=dark] .colab-df-convert {\n",
              "      background-color: #3B4455;\n",
              "      fill: #D2E3FC;\n",
              "    }\n",
              "\n",
              "    [theme=dark] .colab-df-convert:hover {\n",
              "      background-color: #434B5C;\n",
              "      box-shadow: 0px 1px 3px 1px rgba(0, 0, 0, 0.15);\n",
              "      filter: drop-shadow(0px 1px 2px rgba(0, 0, 0, 0.3));\n",
              "      fill: #FFFFFF;\n",
              "    }\n",
              "  </style>\n",
              "\n",
              "    <script>\n",
              "      const buttonEl =\n",
              "        document.querySelector('#df-010f1839-a2ce-4166-9c49-18bf13e03a07 button.colab-df-convert');\n",
              "      buttonEl.style.display =\n",
              "        google.colab.kernel.accessAllowed ? 'block' : 'none';\n",
              "\n",
              "      async function convertToInteractive(key) {\n",
              "        const element = document.querySelector('#df-010f1839-a2ce-4166-9c49-18bf13e03a07');\n",
              "        const dataTable =\n",
              "          await google.colab.kernel.invokeFunction('convertToInteractive',\n",
              "                                                    [key], {});\n",
              "        if (!dataTable) return;\n",
              "\n",
              "        const docLinkHtml = 'Like what you see? Visit the ' +\n",
              "          '<a target=\"_blank\" href=https://colab.research.google.com/notebooks/data_table.ipynb>data table notebook</a>'\n",
              "          + ' to learn more about interactive tables.';\n",
              "        element.innerHTML = '';\n",
              "        dataTable['output_type'] = 'display_data';\n",
              "        await google.colab.output.renderOutput(dataTable, element);\n",
              "        const docLink = document.createElement('div');\n",
              "        docLink.innerHTML = docLinkHtml;\n",
              "        element.appendChild(docLink);\n",
              "      }\n",
              "    </script>\n",
              "  </div>\n",
              "\n",
              "\n",
              "    <div id=\"df-70472d8f-fcfa-4f60-9b47-7d5cfff0d689\">\n",
              "      <button class=\"colab-df-quickchart\" onclick=\"quickchart('df-70472d8f-fcfa-4f60-9b47-7d5cfff0d689')\"\n",
              "                title=\"Suggest charts\"\n",
              "                style=\"display:none;\">\n",
              "\n",
              "<svg xmlns=\"http://www.w3.org/2000/svg\" height=\"24px\"viewBox=\"0 0 24 24\"\n",
              "     width=\"24px\">\n",
              "    <g>\n",
              "        <path d=\"M19 3H5c-1.1 0-2 .9-2 2v14c0 1.1.9 2 2 2h14c1.1 0 2-.9 2-2V5c0-1.1-.9-2-2-2zM9 17H7v-7h2v7zm4 0h-2V7h2v10zm4 0h-2v-4h2v4z\"/>\n",
              "    </g>\n",
              "</svg>\n",
              "      </button>\n",
              "\n",
              "<style>\n",
              "  .colab-df-quickchart {\n",
              "      --bg-color: #E8F0FE;\n",
              "      --fill-color: #1967D2;\n",
              "      --hover-bg-color: #E2EBFA;\n",
              "      --hover-fill-color: #174EA6;\n",
              "      --disabled-fill-color: #AAA;\n",
              "      --disabled-bg-color: #DDD;\n",
              "  }\n",
              "\n",
              "  [theme=dark] .colab-df-quickchart {\n",
              "      --bg-color: #3B4455;\n",
              "      --fill-color: #D2E3FC;\n",
              "      --hover-bg-color: #434B5C;\n",
              "      --hover-fill-color: #FFFFFF;\n",
              "      --disabled-bg-color: #3B4455;\n",
              "      --disabled-fill-color: #666;\n",
              "  }\n",
              "\n",
              "  .colab-df-quickchart {\n",
              "    background-color: var(--bg-color);\n",
              "    border: none;\n",
              "    border-radius: 50%;\n",
              "    cursor: pointer;\n",
              "    display: none;\n",
              "    fill: var(--fill-color);\n",
              "    height: 32px;\n",
              "    padding: 0;\n",
              "    width: 32px;\n",
              "  }\n",
              "\n",
              "  .colab-df-quickchart:hover {\n",
              "    background-color: var(--hover-bg-color);\n",
              "    box-shadow: 0 1px 2px rgba(60, 64, 67, 0.3), 0 1px 3px 1px rgba(60, 64, 67, 0.15);\n",
              "    fill: var(--button-hover-fill-color);\n",
              "  }\n",
              "\n",
              "  .colab-df-quickchart-complete:disabled,\n",
              "  .colab-df-quickchart-complete:disabled:hover {\n",
              "    background-color: var(--disabled-bg-color);\n",
              "    fill: var(--disabled-fill-color);\n",
              "    box-shadow: none;\n",
              "  }\n",
              "\n",
              "  .colab-df-spinner {\n",
              "    border: 2px solid var(--fill-color);\n",
              "    border-color: transparent;\n",
              "    border-bottom-color: var(--fill-color);\n",
              "    animation:\n",
              "      spin 1s steps(1) infinite;\n",
              "  }\n",
              "\n",
              "  @keyframes spin {\n",
              "    0% {\n",
              "      border-color: transparent;\n",
              "      border-bottom-color: var(--fill-color);\n",
              "      border-left-color: var(--fill-color);\n",
              "    }\n",
              "    20% {\n",
              "      border-color: transparent;\n",
              "      border-left-color: var(--fill-color);\n",
              "      border-top-color: var(--fill-color);\n",
              "    }\n",
              "    30% {\n",
              "      border-color: transparent;\n",
              "      border-left-color: var(--fill-color);\n",
              "      border-top-color: var(--fill-color);\n",
              "      border-right-color: var(--fill-color);\n",
              "    }\n",
              "    40% {\n",
              "      border-color: transparent;\n",
              "      border-right-color: var(--fill-color);\n",
              "      border-top-color: var(--fill-color);\n",
              "    }\n",
              "    60% {\n",
              "      border-color: transparent;\n",
              "      border-right-color: var(--fill-color);\n",
              "    }\n",
              "    80% {\n",
              "      border-color: transparent;\n",
              "      border-right-color: var(--fill-color);\n",
              "      border-bottom-color: var(--fill-color);\n",
              "    }\n",
              "    90% {\n",
              "      border-color: transparent;\n",
              "      border-bottom-color: var(--fill-color);\n",
              "    }\n",
              "  }\n",
              "</style>\n",
              "\n",
              "      <script>\n",
              "        async function quickchart(key) {\n",
              "          const quickchartButtonEl =\n",
              "            document.querySelector('#' + key + ' button');\n",
              "          quickchartButtonEl.disabled = true;  // To prevent multiple clicks.\n",
              "          quickchartButtonEl.classList.add('colab-df-spinner');\n",
              "          try {\n",
              "            const charts = await google.colab.kernel.invokeFunction(\n",
              "                'suggestCharts', [key], {});\n",
              "          } catch (error) {\n",
              "            console.error('Error during call to suggestCharts:', error);\n",
              "          }\n",
              "          quickchartButtonEl.classList.remove('colab-df-spinner');\n",
              "          quickchartButtonEl.classList.add('colab-df-quickchart-complete');\n",
              "        }\n",
              "        (() => {\n",
              "          let quickchartButtonEl =\n",
              "            document.querySelector('#df-70472d8f-fcfa-4f60-9b47-7d5cfff0d689 button');\n",
              "          quickchartButtonEl.style.display =\n",
              "            google.colab.kernel.accessAllowed ? 'block' : 'none';\n",
              "        })();\n",
              "      </script>\n",
              "    </div>\n",
              "\n",
              "    </div>\n",
              "  </div>\n"
            ],
            "application/vnd.google.colaboratory.intrinsic+json": {
              "type": "dataframe",
              "variable_name": "df"
            }
          },
          "metadata": {},
          "execution_count": 66
        }
      ]
    },
    {
      "cell_type": "code",
      "source": [
        "# Check current column names\n",
        "print(\"Current columns:\", df.columns.tolist())\n",
        "\n",
        "# The first row after skiprows=3 contains the actual headers\n",
        "# Let's rename the columns properly based on what we see\n",
        "df.columns = [\n",
        "    'Project', 'Stage', 'Category', 'Unit Type', 'Unit Code',\n",
        "    'Grand Total (Pricing Structure)', 'Total Finishing Price',\n",
        "    'Unit Total with Finishing Price', 'Planned Delivery Date',\n",
        "    'Actual Delivery Date', 'Completion Progress', 'Land Area (Pricing Structure)',\n",
        "    'Built Area (Pricing Structure)', 'Basement Area (Pricing Structure)',\n",
        "    'Uncovered Basement Area (Pricing Structure)', 'Penthouse Area (Pricing Structure)',\n",
        "    'Semi Covered Roof Area (Pricing Structure)', 'Roof Area (Pricing Structure)',\n",
        "    'Garden/Outdoor Area (Pricing Structure)', 'Garage Area (Pricing Structure)',\n",
        "    'Pergola Area (Pricing Structure)', 'Storage Area (Pricing Structure)',\n",
        "    'Extra BuiltUp Area (Pricing Structure)', 'Finishing Specs',\n",
        "    'Club (Pricing Structure)'\n",
        "]\n",
        "\n",
        "# Verify the changes\n",
        "print(\"\\nAfter renaming:\", df.columns.tolist())"
      ],
      "metadata": {
        "id": "5-kx7BkZ13UQ",
        "colab": {
          "base_uri": "https://localhost:8080/"
        },
        "outputId": "022e46ff-e937-40c0-9db0-6223349b2ec4"
      },
      "execution_count": 67,
      "outputs": [
        {
          "output_type": "stream",
          "name": "stdout",
          "text": [
            "Current columns: ['Unnamed: 0', 'Unnamed: 1', 'Unnamed: 2', 'Unnamed: 3', 'Unnamed: 4', 'Unnamed: 5', 'Unnamed: 6', 'Unnamed: 7', 'Unnamed: 8', 'Unnamed: 9', 'Unnamed: 10', 'Unnamed: 11', 'Unnamed: 12', 'Unnamed: 13', 'Unnamed: 14', 'Unnamed: 15', 'Unnamed: 16', 'Unnamed: 17', 'Unnamed: 18', 'Unnamed: 19', 'Unnamed: 20', 'Unnamed: 21', 'Unnamed: 22', 'Unnamed: 23', 'Unnamed: 24']\n",
            "\n",
            "After renaming: ['Project', 'Stage', 'Category', 'Unit Type', 'Unit Code', 'Grand Total (Pricing Structure)', 'Total Finishing Price', 'Unit Total with Finishing Price', 'Planned Delivery Date', 'Actual Delivery Date', 'Completion Progress', 'Land Area (Pricing Structure)', 'Built Area (Pricing Structure)', 'Basement Area (Pricing Structure)', 'Uncovered Basement Area (Pricing Structure)', 'Penthouse Area (Pricing Structure)', 'Semi Covered Roof Area (Pricing Structure)', 'Roof Area (Pricing Structure)', 'Garden/Outdoor Area (Pricing Structure)', 'Garage Area (Pricing Structure)', 'Pergola Area (Pricing Structure)', 'Storage Area (Pricing Structure)', 'Extra BuiltUp Area (Pricing Structure)', 'Finishing Specs', 'Club (Pricing Structure)']\n"
          ]
        }
      ]
    },
    {
      "cell_type": "code",
      "source": [
        "#Variance"
      ],
      "metadata": {
        "id": "p-_lWvTivakg"
      },
      "execution_count": 68,
      "outputs": []
    },
    {
      "cell_type": "code",
      "source": [
        "import pandas as pd\n",
        "import numpy as np\n",
        "import matplotlib.pyplot as plt\n",
        "import seaborn as sns\n",
        "\n",
        "# Load the data properly\n",
        "df = pd.read_excel(\"/content/drive/MyDrive/real_estate.xlsx\", skiprows=3)\n",
        "\n",
        "# Rename columns\n",
        "df.columns = [\n",
        "    'Project', 'Stage', 'Category', 'Unit Type', 'Unit Code',\n",
        "    'Grand Total', 'Total Finishing Price', 'Unit Total Price',\n",
        "    'Planned Delivery Date', 'Actual Delivery Date', 'Completion Progress',\n",
        "    'Land Area', 'Built Area', 'Basement Area', 'Uncovered Basement Area',\n",
        "    'Penthouse Area', 'Semi Covered Roof', 'Roof Area', 'Garden Area',\n",
        "    'Garage Area', 'Pergola Area', 'Storage Area', 'Extra BuiltUp Area',\n",
        "    'Finishing Specs', 'Club Price'\n",
        "]\n",
        "\n",
        "# Clean data\n",
        "df_clean = df.dropna(subset=['Unit Total Price', 'Category']).copy()\n",
        "\n",
        "# Convert numeric columns\n",
        "df_clean['Unit Total Price'] = pd.to_numeric(df_clean['Unit Total Price'], errors='coerce')\n",
        "df_clean['Grand Total'] = pd.to_numeric(df_clean['Grand Total'], errors='coerce')\n",
        "\n",
        "# Convert date column - using the more robust method\n",
        "df_clean['Planned Delivery Date'] = pd.to_datetime(\n",
        "    df_clean['Planned Delivery Date'].astype(str).str.split().str[0],\n",
        "    errors='coerce'\n",
        ")\n",
        "\n",
        "# Drop rows where date conversion failed\n",
        "df_clean = df_clean.dropna(subset=['Planned Delivery Date'])\n",
        "\n",
        "# Verify cleaned data\n",
        "print(\"Cleaned data shape:\", df_clean.shape)\n",
        "print(\"\\nData types:\")\n",
        "print(df_clean.dtypes)\n",
        "print(\"\\nSample data:\")\n",
        "df_clean.head()"
      ],
      "metadata": {
        "id": "NNuZzXhRvade",
        "colab": {
          "base_uri": "https://localhost:8080/",
          "height": 1000
        },
        "outputId": "6bea9241-e562-45cb-bd68-7c43fbaca76a"
      },
      "execution_count": 69,
      "outputs": [
        {
          "output_type": "stream",
          "name": "stdout",
          "text": [
            "Cleaned data shape: (1686, 25)\n",
            "\n",
            "Data types:\n",
            "Project                            object\n",
            "Stage                              object\n",
            "Category                           object\n",
            "Unit Type                          object\n",
            "Unit Code                          object\n",
            "Grand Total                       float64\n",
            "Total Finishing Price              object\n",
            "Unit Total Price                  float64\n",
            "Planned Delivery Date      datetime64[ns]\n",
            "Actual Delivery Date               object\n",
            "Completion Progress                object\n",
            "Land Area                          object\n",
            "Built Area                         object\n",
            "Basement Area                      object\n",
            "Uncovered Basement Area            object\n",
            "Penthouse Area                     object\n",
            "Semi Covered Roof                  object\n",
            "Roof Area                          object\n",
            "Garden Area                        object\n",
            "Garage Area                        object\n",
            "Pergola Area                       object\n",
            "Storage Area                       object\n",
            "Extra BuiltUp Area                 object\n",
            "Finishing Specs                    object\n",
            "Club Price                         object\n",
            "dtype: object\n",
            "\n",
            "Sample data:\n"
          ]
        },
        {
          "output_type": "execute_result",
          "data": {
            "text/plain": [
              "  Project             Stage                    Category  Unit Type  \\\n",
              "1   Badya  Badya-District 2   Badya-Trio D-3 Bed-Garden  Apartment   \n",
              "2   Badya  Badya-District 2   Badya-Trio D-3 Bed-Garden  Apartment   \n",
              "3   Badya  Badya-District 2  Badya-Trio D-2 Bed-Typical  Apartment   \n",
              "4   Badya  Badya-District 2  Badya-Trio D-2 Bed-Typical  Apartment   \n",
              "5   Badya  Badya-District 2  Badya-Trio D-3 Bed-Typical  Apartment   \n",
              "\n",
              "      Unit Code  Grand Total Total Finishing Price  Unit Total Price  \\\n",
              "1  D2A8-02-0101   12511000.0               3296412        15807412.0   \n",
              "2  D2A8-02-0102   11954000.0               3030672        14984672.0   \n",
              "3  D2A8-02-0112    9230000.0               2619084        11849084.0   \n",
              "4  D2A8-02-0122    9230000.0               2619084        11849084.0   \n",
              "5  D2A8-02-0131   10750000.0               3132230        13882230.0   \n",
              "\n",
              "  Planned Delivery Date Actual Delivery Date  ... Penthouse Area  \\\n",
              "1            2030-06-30                  NaN  ...              0   \n",
              "2            2030-06-30                  NaN  ...              0   \n",
              "3            2030-06-30                  NaN  ...              0   \n",
              "4            2030-06-30                  NaN  ...              0   \n",
              "5            2030-06-30                  NaN  ...              0   \n",
              "\n",
              "  Semi Covered Roof Roof Area Garden Area Garage Area Pergola Area  \\\n",
              "1                 0         0       60.24           0            0   \n",
              "2                 0         0       70.61           0            0   \n",
              "3                 0         0           0           0            0   \n",
              "4                 0         0           0           0            0   \n",
              "5                 0         0           0           0            0   \n",
              "\n",
              "  Storage Area Extra BuiltUp Area Finishing Specs Club Price  \n",
              "1            0                  0    FFAI-BD-D2A8     320000  \n",
              "2            0                  0    FFAI-BD-D2A8     320000  \n",
              "3            0                  0    FFAI-BD-D2A8     320000  \n",
              "4            0                  0    FFAI-BD-D2A8     320000  \n",
              "5            0                  0    FFAI-BD-D2A8     320000  \n",
              "\n",
              "[5 rows x 25 columns]"
            ],
            "text/html": [
              "\n",
              "  <div id=\"df-169b868c-ad87-4faa-b790-2e04553ec1d4\" class=\"colab-df-container\">\n",
              "    <div>\n",
              "<style scoped>\n",
              "    .dataframe tbody tr th:only-of-type {\n",
              "        vertical-align: middle;\n",
              "    }\n",
              "\n",
              "    .dataframe tbody tr th {\n",
              "        vertical-align: top;\n",
              "    }\n",
              "\n",
              "    .dataframe thead th {\n",
              "        text-align: right;\n",
              "    }\n",
              "</style>\n",
              "<table border=\"1\" class=\"dataframe\">\n",
              "  <thead>\n",
              "    <tr style=\"text-align: right;\">\n",
              "      <th></th>\n",
              "      <th>Project</th>\n",
              "      <th>Stage</th>\n",
              "      <th>Category</th>\n",
              "      <th>Unit Type</th>\n",
              "      <th>Unit Code</th>\n",
              "      <th>Grand Total</th>\n",
              "      <th>Total Finishing Price</th>\n",
              "      <th>Unit Total Price</th>\n",
              "      <th>Planned Delivery Date</th>\n",
              "      <th>Actual Delivery Date</th>\n",
              "      <th>...</th>\n",
              "      <th>Penthouse Area</th>\n",
              "      <th>Semi Covered Roof</th>\n",
              "      <th>Roof Area</th>\n",
              "      <th>Garden Area</th>\n",
              "      <th>Garage Area</th>\n",
              "      <th>Pergola Area</th>\n",
              "      <th>Storage Area</th>\n",
              "      <th>Extra BuiltUp Area</th>\n",
              "      <th>Finishing Specs</th>\n",
              "      <th>Club Price</th>\n",
              "    </tr>\n",
              "  </thead>\n",
              "  <tbody>\n",
              "    <tr>\n",
              "      <th>1</th>\n",
              "      <td>Badya</td>\n",
              "      <td>Badya-District 2</td>\n",
              "      <td>Badya-Trio D-3 Bed-Garden</td>\n",
              "      <td>Apartment</td>\n",
              "      <td>D2A8-02-0101</td>\n",
              "      <td>12511000.0</td>\n",
              "      <td>3296412</td>\n",
              "      <td>15807412.0</td>\n",
              "      <td>2030-06-30</td>\n",
              "      <td>NaN</td>\n",
              "      <td>...</td>\n",
              "      <td>0</td>\n",
              "      <td>0</td>\n",
              "      <td>0</td>\n",
              "      <td>60.24</td>\n",
              "      <td>0</td>\n",
              "      <td>0</td>\n",
              "      <td>0</td>\n",
              "      <td>0</td>\n",
              "      <td>FFAI-BD-D2A8</td>\n",
              "      <td>320000</td>\n",
              "    </tr>\n",
              "    <tr>\n",
              "      <th>2</th>\n",
              "      <td>Badya</td>\n",
              "      <td>Badya-District 2</td>\n",
              "      <td>Badya-Trio D-3 Bed-Garden</td>\n",
              "      <td>Apartment</td>\n",
              "      <td>D2A8-02-0102</td>\n",
              "      <td>11954000.0</td>\n",
              "      <td>3030672</td>\n",
              "      <td>14984672.0</td>\n",
              "      <td>2030-06-30</td>\n",
              "      <td>NaN</td>\n",
              "      <td>...</td>\n",
              "      <td>0</td>\n",
              "      <td>0</td>\n",
              "      <td>0</td>\n",
              "      <td>70.61</td>\n",
              "      <td>0</td>\n",
              "      <td>0</td>\n",
              "      <td>0</td>\n",
              "      <td>0</td>\n",
              "      <td>FFAI-BD-D2A8</td>\n",
              "      <td>320000</td>\n",
              "    </tr>\n",
              "    <tr>\n",
              "      <th>3</th>\n",
              "      <td>Badya</td>\n",
              "      <td>Badya-District 2</td>\n",
              "      <td>Badya-Trio D-2 Bed-Typical</td>\n",
              "      <td>Apartment</td>\n",
              "      <td>D2A8-02-0112</td>\n",
              "      <td>9230000.0</td>\n",
              "      <td>2619084</td>\n",
              "      <td>11849084.0</td>\n",
              "      <td>2030-06-30</td>\n",
              "      <td>NaN</td>\n",
              "      <td>...</td>\n",
              "      <td>0</td>\n",
              "      <td>0</td>\n",
              "      <td>0</td>\n",
              "      <td>0</td>\n",
              "      <td>0</td>\n",
              "      <td>0</td>\n",
              "      <td>0</td>\n",
              "      <td>0</td>\n",
              "      <td>FFAI-BD-D2A8</td>\n",
              "      <td>320000</td>\n",
              "    </tr>\n",
              "    <tr>\n",
              "      <th>4</th>\n",
              "      <td>Badya</td>\n",
              "      <td>Badya-District 2</td>\n",
              "      <td>Badya-Trio D-2 Bed-Typical</td>\n",
              "      <td>Apartment</td>\n",
              "      <td>D2A8-02-0122</td>\n",
              "      <td>9230000.0</td>\n",
              "      <td>2619084</td>\n",
              "      <td>11849084.0</td>\n",
              "      <td>2030-06-30</td>\n",
              "      <td>NaN</td>\n",
              "      <td>...</td>\n",
              "      <td>0</td>\n",
              "      <td>0</td>\n",
              "      <td>0</td>\n",
              "      <td>0</td>\n",
              "      <td>0</td>\n",
              "      <td>0</td>\n",
              "      <td>0</td>\n",
              "      <td>0</td>\n",
              "      <td>FFAI-BD-D2A8</td>\n",
              "      <td>320000</td>\n",
              "    </tr>\n",
              "    <tr>\n",
              "      <th>5</th>\n",
              "      <td>Badya</td>\n",
              "      <td>Badya-District 2</td>\n",
              "      <td>Badya-Trio D-3 Bed-Typical</td>\n",
              "      <td>Apartment</td>\n",
              "      <td>D2A8-02-0131</td>\n",
              "      <td>10750000.0</td>\n",
              "      <td>3132230</td>\n",
              "      <td>13882230.0</td>\n",
              "      <td>2030-06-30</td>\n",
              "      <td>NaN</td>\n",
              "      <td>...</td>\n",
              "      <td>0</td>\n",
              "      <td>0</td>\n",
              "      <td>0</td>\n",
              "      <td>0</td>\n",
              "      <td>0</td>\n",
              "      <td>0</td>\n",
              "      <td>0</td>\n",
              "      <td>0</td>\n",
              "      <td>FFAI-BD-D2A8</td>\n",
              "      <td>320000</td>\n",
              "    </tr>\n",
              "  </tbody>\n",
              "</table>\n",
              "<p>5 rows × 25 columns</p>\n",
              "</div>\n",
              "    <div class=\"colab-df-buttons\">\n",
              "\n",
              "  <div class=\"colab-df-container\">\n",
              "    <button class=\"colab-df-convert\" onclick=\"convertToInteractive('df-169b868c-ad87-4faa-b790-2e04553ec1d4')\"\n",
              "            title=\"Convert this dataframe to an interactive table.\"\n",
              "            style=\"display:none;\">\n",
              "\n",
              "  <svg xmlns=\"http://www.w3.org/2000/svg\" height=\"24px\" viewBox=\"0 -960 960 960\">\n",
              "    <path d=\"M120-120v-720h720v720H120Zm60-500h600v-160H180v160Zm220 220h160v-160H400v160Zm0 220h160v-160H400v160ZM180-400h160v-160H180v160Zm440 0h160v-160H620v160ZM180-180h160v-160H180v160Zm440 0h160v-160H620v160Z\"/>\n",
              "  </svg>\n",
              "    </button>\n",
              "\n",
              "  <style>\n",
              "    .colab-df-container {\n",
              "      display:flex;\n",
              "      gap: 12px;\n",
              "    }\n",
              "\n",
              "    .colab-df-convert {\n",
              "      background-color: #E8F0FE;\n",
              "      border: none;\n",
              "      border-radius: 50%;\n",
              "      cursor: pointer;\n",
              "      display: none;\n",
              "      fill: #1967D2;\n",
              "      height: 32px;\n",
              "      padding: 0 0 0 0;\n",
              "      width: 32px;\n",
              "    }\n",
              "\n",
              "    .colab-df-convert:hover {\n",
              "      background-color: #E2EBFA;\n",
              "      box-shadow: 0px 1px 2px rgba(60, 64, 67, 0.3), 0px 1px 3px 1px rgba(60, 64, 67, 0.15);\n",
              "      fill: #174EA6;\n",
              "    }\n",
              "\n",
              "    .colab-df-buttons div {\n",
              "      margin-bottom: 4px;\n",
              "    }\n",
              "\n",
              "    [theme=dark] .colab-df-convert {\n",
              "      background-color: #3B4455;\n",
              "      fill: #D2E3FC;\n",
              "    }\n",
              "\n",
              "    [theme=dark] .colab-df-convert:hover {\n",
              "      background-color: #434B5C;\n",
              "      box-shadow: 0px 1px 3px 1px rgba(0, 0, 0, 0.15);\n",
              "      filter: drop-shadow(0px 1px 2px rgba(0, 0, 0, 0.3));\n",
              "      fill: #FFFFFF;\n",
              "    }\n",
              "  </style>\n",
              "\n",
              "    <script>\n",
              "      const buttonEl =\n",
              "        document.querySelector('#df-169b868c-ad87-4faa-b790-2e04553ec1d4 button.colab-df-convert');\n",
              "      buttonEl.style.display =\n",
              "        google.colab.kernel.accessAllowed ? 'block' : 'none';\n",
              "\n",
              "      async function convertToInteractive(key) {\n",
              "        const element = document.querySelector('#df-169b868c-ad87-4faa-b790-2e04553ec1d4');\n",
              "        const dataTable =\n",
              "          await google.colab.kernel.invokeFunction('convertToInteractive',\n",
              "                                                    [key], {});\n",
              "        if (!dataTable) return;\n",
              "\n",
              "        const docLinkHtml = 'Like what you see? Visit the ' +\n",
              "          '<a target=\"_blank\" href=https://colab.research.google.com/notebooks/data_table.ipynb>data table notebook</a>'\n",
              "          + ' to learn more about interactive tables.';\n",
              "        element.innerHTML = '';\n",
              "        dataTable['output_type'] = 'display_data';\n",
              "        await google.colab.output.renderOutput(dataTable, element);\n",
              "        const docLink = document.createElement('div');\n",
              "        docLink.innerHTML = docLinkHtml;\n",
              "        element.appendChild(docLink);\n",
              "      }\n",
              "    </script>\n",
              "  </div>\n",
              "\n",
              "\n",
              "    <div id=\"df-24e90d03-5d9f-4652-af1e-0b9af6a74beb\">\n",
              "      <button class=\"colab-df-quickchart\" onclick=\"quickchart('df-24e90d03-5d9f-4652-af1e-0b9af6a74beb')\"\n",
              "                title=\"Suggest charts\"\n",
              "                style=\"display:none;\">\n",
              "\n",
              "<svg xmlns=\"http://www.w3.org/2000/svg\" height=\"24px\"viewBox=\"0 0 24 24\"\n",
              "     width=\"24px\">\n",
              "    <g>\n",
              "        <path d=\"M19 3H5c-1.1 0-2 .9-2 2v14c0 1.1.9 2 2 2h14c1.1 0 2-.9 2-2V5c0-1.1-.9-2-2-2zM9 17H7v-7h2v7zm4 0h-2V7h2v10zm4 0h-2v-4h2v4z\"/>\n",
              "    </g>\n",
              "</svg>\n",
              "      </button>\n",
              "\n",
              "<style>\n",
              "  .colab-df-quickchart {\n",
              "      --bg-color: #E8F0FE;\n",
              "      --fill-color: #1967D2;\n",
              "      --hover-bg-color: #E2EBFA;\n",
              "      --hover-fill-color: #174EA6;\n",
              "      --disabled-fill-color: #AAA;\n",
              "      --disabled-bg-color: #DDD;\n",
              "  }\n",
              "\n",
              "  [theme=dark] .colab-df-quickchart {\n",
              "      --bg-color: #3B4455;\n",
              "      --fill-color: #D2E3FC;\n",
              "      --hover-bg-color: #434B5C;\n",
              "      --hover-fill-color: #FFFFFF;\n",
              "      --disabled-bg-color: #3B4455;\n",
              "      --disabled-fill-color: #666;\n",
              "  }\n",
              "\n",
              "  .colab-df-quickchart {\n",
              "    background-color: var(--bg-color);\n",
              "    border: none;\n",
              "    border-radius: 50%;\n",
              "    cursor: pointer;\n",
              "    display: none;\n",
              "    fill: var(--fill-color);\n",
              "    height: 32px;\n",
              "    padding: 0;\n",
              "    width: 32px;\n",
              "  }\n",
              "\n",
              "  .colab-df-quickchart:hover {\n",
              "    background-color: var(--hover-bg-color);\n",
              "    box-shadow: 0 1px 2px rgba(60, 64, 67, 0.3), 0 1px 3px 1px rgba(60, 64, 67, 0.15);\n",
              "    fill: var(--button-hover-fill-color);\n",
              "  }\n",
              "\n",
              "  .colab-df-quickchart-complete:disabled,\n",
              "  .colab-df-quickchart-complete:disabled:hover {\n",
              "    background-color: var(--disabled-bg-color);\n",
              "    fill: var(--disabled-fill-color);\n",
              "    box-shadow: none;\n",
              "  }\n",
              "\n",
              "  .colab-df-spinner {\n",
              "    border: 2px solid var(--fill-color);\n",
              "    border-color: transparent;\n",
              "    border-bottom-color: var(--fill-color);\n",
              "    animation:\n",
              "      spin 1s steps(1) infinite;\n",
              "  }\n",
              "\n",
              "  @keyframes spin {\n",
              "    0% {\n",
              "      border-color: transparent;\n",
              "      border-bottom-color: var(--fill-color);\n",
              "      border-left-color: var(--fill-color);\n",
              "    }\n",
              "    20% {\n",
              "      border-color: transparent;\n",
              "      border-left-color: var(--fill-color);\n",
              "      border-top-color: var(--fill-color);\n",
              "    }\n",
              "    30% {\n",
              "      border-color: transparent;\n",
              "      border-left-color: var(--fill-color);\n",
              "      border-top-color: var(--fill-color);\n",
              "      border-right-color: var(--fill-color);\n",
              "    }\n",
              "    40% {\n",
              "      border-color: transparent;\n",
              "      border-right-color: var(--fill-color);\n",
              "      border-top-color: var(--fill-color);\n",
              "    }\n",
              "    60% {\n",
              "      border-color: transparent;\n",
              "      border-right-color: var(--fill-color);\n",
              "    }\n",
              "    80% {\n",
              "      border-color: transparent;\n",
              "      border-right-color: var(--fill-color);\n",
              "      border-bottom-color: var(--fill-color);\n",
              "    }\n",
              "    90% {\n",
              "      border-color: transparent;\n",
              "      border-bottom-color: var(--fill-color);\n",
              "    }\n",
              "  }\n",
              "</style>\n",
              "\n",
              "      <script>\n",
              "        async function quickchart(key) {\n",
              "          const quickchartButtonEl =\n",
              "            document.querySelector('#' + key + ' button');\n",
              "          quickchartButtonEl.disabled = true;  // To prevent multiple clicks.\n",
              "          quickchartButtonEl.classList.add('colab-df-spinner');\n",
              "          try {\n",
              "            const charts = await google.colab.kernel.invokeFunction(\n",
              "                'suggestCharts', [key], {});\n",
              "          } catch (error) {\n",
              "            console.error('Error during call to suggestCharts:', error);\n",
              "          }\n",
              "          quickchartButtonEl.classList.remove('colab-df-spinner');\n",
              "          quickchartButtonEl.classList.add('colab-df-quickchart-complete');\n",
              "        }\n",
              "        (() => {\n",
              "          let quickchartButtonEl =\n",
              "            document.querySelector('#df-24e90d03-5d9f-4652-af1e-0b9af6a74beb button');\n",
              "          quickchartButtonEl.style.display =\n",
              "            google.colab.kernel.accessAllowed ? 'block' : 'none';\n",
              "        })();\n",
              "      </script>\n",
              "    </div>\n",
              "\n",
              "    </div>\n",
              "  </div>\n"
            ],
            "application/vnd.google.colaboratory.intrinsic+json": {
              "type": "dataframe",
              "variable_name": "df_clean"
            }
          },
          "metadata": {},
          "execution_count": 69
        }
      ]
    },
    {
      "cell_type": "code",
      "source": [
        "import pandas as pd\n",
        "import numpy as np\n",
        "\n",
        "# Load and prepare data\n",
        "df = pd.read_excel('/content/drive/MyDrive/real_estate.xlsx', header=None)\n",
        "header_row = df[df[0] == 'Project'].index[0]\n",
        "df.columns = df.iloc[header_row]\n",
        "df = df.iloc[header_row+1:].reset_index(drop=True)\n",
        "\n",
        "# Clean and convert price data\n",
        "price_col = 'Unit Total with Finishing Price'\n",
        "df[price_col] = pd.to_numeric(df[price_col], errors='coerce')\n",
        "\n",
        "# Convert from cents to dollars if needed\n",
        "if df[price_col].median() > 1000000:\n",
        "    df[price_col] = df[price_col] / 100\n",
        "\n",
        "# Calculate variance - filtering out zeros and single-property categories\n",
        "variance_results = (\n",
        "    df.groupby('Category')[price_col]\n",
        "    .agg(['count', 'var'])\n",
        "    .reset_index()\n",
        "    .rename(columns={'count': 'Property_Count', 'var': 'Variance'})\n",
        "    .query('Variance > 0 and Property_Count > 1')  # This removes all zero-variance cases\n",
        "    .sort_values('Variance', ascending=False)\n",
        ")\n",
        "\n",
        "# Format variance for readability\n",
        "def format_variance(x):\n",
        "    if x >= 1e12: return f\"{x/1e12:.2f}T\"\n",
        "    if x >= 1e9: return f\"{x/1e9:.2f}B\"\n",
        "    if x >= 1e6: return f\"{x/1e6:.2f}M\"\n",
        "    return f\"{x:,.0f}\"\n",
        "\n",
        "variance_results['Variance_Formatted'] = variance_results['Variance'].apply(format_variance)\n",
        "\n",
        "# Display results\n",
        "print(\"=== Properties With Price Variance ===\")\n",
        "print(variance_results[['Category', 'Property_Count', 'Variance_Formatted']].to_string(index=False))\n",
        "\n",
        "# Export results\n",
        "output_path = '/content/drive/MyDrive/property_variance_clean.xlsx'\n",
        "variance_results.to_excel(output_path, index=False)\n",
        "print(f\"\\nResults saved to: {output_path}\")"
      ],
      "metadata": {
        "id": "weosgpbMOb7h",
        "colab": {
          "base_uri": "https://localhost:8080/"
        },
        "outputId": "943e6c66-1486-4971-d855-4b7fd37c18c3"
      },
      "execution_count": 73,
      "outputs": [
        {
          "output_type": "stream",
          "name": "stdout",
          "text": [
            "=== Properties With Price Variance ===\n",
            "                                    Category  Property_Count Variance_Formatted\n",
            "                                 Garden View               2            106.17B\n",
            "                Palmet NC-Third Floor-Office               9              1.92B\n",
            "               Palmet NC-Fourth Floor-Office              10              1.85B\n",
            "                    Alex-Ground Apartment-3B              12              1.12B\n",
            "                    Alex-Ground Apartment-2B              28            828.61M\n",
            "                Palmet NC-First Floor-Office               4            785.16M\n",
            "                   Alex-Typical Apartment-2B              21            686.20M\n",
            "                   Alex-Typical Apartment-3B              31            655.85M\n",
            "                      PX-Town House X Middle              13            330.17M\n",
            "                         Badya-Villa Type W2              11            297.04M\n",
            "                       PX-Skye2-Penthouse-3B               4            286.29M\n",
            "                     PX-Town House X2 Middle              22            286.21M\n",
            "                      PX-Dawn-Penthouse-2B+N               6            276.59M\n",
            "                          PX-Skye2-Garden-3B              25            242.83M\n",
            "                         PX-Dusk2-Typical-3B              16            201.97M\n",
            "               PNC-Apartment-With Garden  2B               6            200.98M\n",
            "                          WST-Seascape Lodge               2            196.02M\n",
            "                            PNC-VILLA TYPE C               6            188.85M\n",
            "                       HWS-Villa A First Row               3            165.11M\n",
            "                          PX-Dawn-Typical-2B              14            156.44M\n",
            "                    PNC-Typical Apartment 2B             138            141.47M\n",
            "                PNC-Typical Apartment 3B+N+L              12            119.22M\n",
            "                           PX-Dawn-Garden-2B              19            112.14M\n",
            "                          PX-Dawn-Typical-3B              14            112.11M\n",
            "                         PX-Skye2-Typical-2B              31            109.10M\n",
            "                         Badya-Villa Type X2              20             90.21M\n",
            "                        PX-Dawn-Penthouse-2B               7             87.09M\n",
            "                  PNC-Typical Apartment 3B+N              21             62.15M\n",
            "                       PX-Skye2-Typical-3B+N              23             51.39M\n",
            "                          PX-Skye1-Garden-3B               3             49.69M\n",
            "                         PX-Skye2-Typical-1B              15             42.09M\n",
            "                         PX-Dusk1-Typical-3B               3             35.71M\n",
            "              Bamboo III - Town House Middle              28             31.11M\n",
            "     Bamboo III - Family Home With Penthouse              45             25.08M\n",
            "                    WST-Senior Chalet Ground               2             25.00M\n",
            "                  ALX-Palm Town House-MIDDLE              22             19.63M\n",
            "        Bamboo III - Family Home With Garden               7             19.13M\n",
            "             Badya-The Corner C-2 Bed-Garden               6             18.96M\n",
            "                         Badya-Villa Type S2              11             18.84M\n",
            "                   Badya-Trio D-3 Bed-Garden              11             17.79M\n",
            "            Badya-The Corner C-2 Bed-Typical              29             17.43M\n",
            "          Badya-The Corner C-2 Bed-Penthouse               7             16.84M\n",
            "                  ALX-Palm Town House-CORNER               3             14.95M\n",
            "                    Alex-Ground Apartment-1B               2             14.15M\n",
            "                   Badya-Quad A-3 Bed-Garden               4             12.47M\n",
            "                      Badya-YG9-2 Bed-Garden               2             11.78M\n",
            "       HWS-Water Building 4D-Fourth Floor-2B              17             11.39M\n",
            "                 HWS-Cabins-Lagoon View-2B-M              15             11.25M\n",
            "        HWS-Water Building 4D-Third Floor-2B              15              9.64M\n",
            "                       HBLU-Water TH1-Middle               5              8.81M\n",
            "                       HBLU-Water TH1-Corner               3              8.70M\n",
            "       HWS-Water Building 4D-Second Floor-2B              14              8.64M\n",
            "                 Badya-Duo C-M-2 Bed-Typical               4              8.01M\n",
            "              Bamboo III - Town House Corner              11              7.27M\n",
            "                         Badya-Villa Type N2              29              7.06M\n",
            "                       HBLU-Water TH2-Middle              12              6.62M\n",
            "                       HBLU-Water TH2-Corner               4              6.40M\n",
            "             HBLU-Water Senior Chalet-Ground              14              6.18M\n",
            "  HWS-Water Building 2D-Fifth Floor-3B+Nanny               2              6.12M\n",
            "                Badya-Quad A-2 Bed-Penthouse               7              5.94M\n",
            "                   Badya-Quad A-2 Bed-Garden               5              5.19M\n",
            "              HBLU-Water Senior Chalet-First              21              5.09M\n",
            "                  Badya-Trio D-3 Bed-Typical              22              5.09M\n",
            "                  ALX-Villa Type 1-Penthouse               5              4.82M\n",
            "                         Badya-Villa Type Z2              38              4.76M\n",
            "        HWS-Water Building 4D-Fifth Floor-3B               7              4.67M\n",
            "              Badya-TownHouse Small 4 Corner              27              4.22M\n",
            "                   Badya-Duo C1-2 Bed-Garden               4              4.01M\n",
            "                Badya-Trio D-2 Bed-Penthouse               6              3.91M\n",
            "             HBLU-Water Junior Chalet-Ground              12              3.67M\n",
            "                 Badya-Duo C-M-3 Bed-Typical               5              3.63M\n",
            "                Badya-Trio D-3 Bed-Penthouse               8              3.57M\n",
            "                  Badya-Trio D-2 Bed-Typical              28              3.50M\n",
            "                   HWS-Cabins-Lagoon View-2B               7              3.50M\n",
            "                     WST-Senior Chalet First               2              3.39M\n",
            "              HBLU-Water Junior Chalet-First              35              3.23M\n",
            "                  Badya-Quad A-1 Bed-Typical               9              3.22M\n",
            "HWS-Water Building 2D-Fifth Floor-3B+Nanny-M               4              3.06M\n",
            "                       PNC-TOWN HOUSE MIDDLE              15              2.82M\n",
            "                  Badya-Duo C1-2 Bed-Typical               5              2.68M\n",
            "                 HWS-Cabins-Lagoon View-1B-M              15              2.41M\n",
            "                       PNC-TOWN HOUSE CORNER               7              2.37M\n",
            "                     Badya-TownHouse Small 4              15              2.33M\n",
            "                  Badya-Duo C1-3 Bed-Typical               5              2.25M\n",
            "                  Badya-Quad A-2 Bed-Typical              20              2.13M\n",
            "            Badya-The Corner C-3 Bed-Typical              22              1.99M\n",
            "        HWS-Water Building 2D-Third Floor-3B               4              1.72M\n",
            "       HWS-Water Building 3D-Fourth Floor-2B              14              1.42M\n",
            "                   HWS-Cabins-Lagoon View-1B              12              1.32M\n",
            "                    PNC-Typical Apartment 1B               7              1.28M\n",
            "       HWS-Water Building 3D-Second Floor-2B              14              1.28M\n",
            "        HWS-Water Building 3D-Fifth Floor-2B              14              1.25M\n",
            "        HWS-Water Building 3D-Third Floor-2B              15              1.22M\n",
            "                      Badya-YG6-2 Bed-Garden               3              1.08M\n",
            "                       PX-Skye1-Typical-3B+N               2            994,050\n",
            "                     Badya-YG9-2 Bed-Typical               2            992,063\n",
            "             Badya-The Corner C-3 Bed-Garden               3            934,900\n",
            "                     Badya-YG8-2 Bed-Typical               7            902,099\n",
            "       HWS-Water Building 3D-Fourth Floor-1B              15            837,274\n",
            "         Badya-The Boulevard C-4 Bed-Typical               5            806,880\n",
            "        HWS-Water Building 3D-Fifth Floor-1B               9            801,286\n",
            "                     Badya-YG7-2 Bed-Typical               5            697,025\n",
            "       HWS-Water Building 3D-Second Floor-1B              13            694,231\n",
            "        HWS-Water Building 3D-First Floor-1B              16            650,000\n",
            "                   Badya-YG8-2 Bed-Penthouse               2            618,811\n",
            "                    PNC-Typical Apartment 3B               9            577,678\n",
            "                     Badya-YG6-2 Bed-Typical              14            535,435\n",
            "                   Badya-YG6-2 Bed-Penthouse               5            517,117\n",
            "        HWS-Water Building 3D-Third Floor-1B              14            476,044\n",
            "      PPC-TYPICAL APARTMENT 3B 170M - Type F               5            443,570\n",
            "                                  PX-Villa 3              10            412,090\n",
            "       HWS-Water Building 2D-Fourth Floor-3B               7            408,595\n",
            "      Alex-Typical Apartment-3B + Nanny Room              20            352,245\n",
            "                    WST-Building A-2B-Fourth               5            299,024\n",
            "                     Badya-YG5-2 Bed-Typical               5            238,545\n",
            "       HWS-Water Building 2D-Fourth Floor-2B               6            201,667\n",
            "       HWS-Water Building 3D-Ground Floor-1B               6            183,750\n",
            "        HWS-Water Building 3-Fourth Floor-1B               3            140,833\n",
            "                      Badya-YG5-2 Bed-Garden               2            140,450\n",
            "                   Badya-YG9-2 Bed-Penthouse               4            119,498\n",
            "        HWS-Water Building 3-Second Floor-1B               4             99,225\n",
            "      PPC-TYPICAL APARTMENT 3B 170M - Type G               5              2,470\n",
            "\n",
            "Results saved to: /content/drive/MyDrive/property_variance_clean.xlsx\n"
          ]
        }
      ]
    },
    {
      "cell_type": "code",
      "source": [],
      "metadata": {
        "id": "vdhsIWM0hBAN"
      },
      "execution_count": 70,
      "outputs": []
    },
    {
      "cell_type": "code",
      "source": [],
      "metadata": {
        "id": "RxBfI1MthA9r"
      },
      "execution_count": 70,
      "outputs": []
    },
    {
      "cell_type": "code",
      "source": [],
      "metadata": {
        "id": "w41cAs5ThA7M"
      },
      "execution_count": 70,
      "outputs": []
    },
    {
      "cell_type": "code",
      "source": [],
      "metadata": {
        "id": "WG-xg1E4hA4z"
      },
      "execution_count": 70,
      "outputs": []
    },
    {
      "cell_type": "code",
      "source": [],
      "metadata": {
        "id": "z-d6WknlxeJo"
      },
      "execution_count": 70,
      "outputs": []
    },
    {
      "cell_type": "code",
      "source": [],
      "metadata": {
        "id": "f9dG9jENwjy0"
      },
      "execution_count": 70,
      "outputs": []
    },
    {
      "cell_type": "code",
      "source": [],
      "metadata": {
        "id": "S5yTiUwZwjv2"
      },
      "execution_count": 70,
      "outputs": []
    },
    {
      "cell_type": "code",
      "source": [],
      "metadata": {
        "id": "g0Jsv3sKwjuB"
      },
      "execution_count": 70,
      "outputs": []
    },
    {
      "cell_type": "code",
      "source": [],
      "metadata": {
        "id": "J5Aq8m6Jwjso"
      },
      "execution_count": 70,
      "outputs": []
    },
    {
      "cell_type": "code",
      "source": [],
      "metadata": {
        "id": "_aIxya1kwjnu"
      },
      "execution_count": 70,
      "outputs": []
    },
    {
      "cell_type": "code",
      "source": [],
      "metadata": {
        "id": "s5UN5pwdx9wX"
      },
      "execution_count": 70,
      "outputs": []
    },
    {
      "cell_type": "code",
      "source": [
        "##################################"
      ],
      "metadata": {
        "id": "DSAVFD8kGAQl"
      },
      "execution_count": 71,
      "outputs": []
    },
    {
      "cell_type": "code",
      "source": [],
      "metadata": {
        "id": "kLYwh8DkGALc"
      },
      "execution_count": 71,
      "outputs": []
    },
    {
      "cell_type": "code",
      "source": [],
      "metadata": {
        "id": "h3itaWRQGAH7"
      },
      "execution_count": 71,
      "outputs": []
    },
    {
      "cell_type": "code",
      "source": [],
      "metadata": {
        "id": "q5SX4-aZGAG4"
      },
      "execution_count": 71,
      "outputs": []
    },
    {
      "cell_type": "code",
      "source": [],
      "metadata": {
        "id": "5EsUPRtvGADd"
      },
      "execution_count": 71,
      "outputs": []
    },
    {
      "cell_type": "code",
      "source": [],
      "metadata": {
        "id": "ccHRAPgQGABc"
      },
      "execution_count": 71,
      "outputs": []
    },
    {
      "cell_type": "code",
      "source": [],
      "metadata": {
        "id": "Q_79ya8xGAAK"
      },
      "execution_count": 71,
      "outputs": []
    },
    {
      "cell_type": "code",
      "source": [],
      "metadata": {
        "id": "kLp_VcCJF__A"
      },
      "execution_count": 71,
      "outputs": []
    },
    {
      "cell_type": "code",
      "source": [],
      "metadata": {
        "id": "-HxbxiyxF_9y"
      },
      "execution_count": 71,
      "outputs": []
    },
    {
      "cell_type": "code",
      "source": [
        "#################################"
      ],
      "metadata": {
        "id": "qbA5XI9-F_5f"
      },
      "execution_count": 72,
      "outputs": []
    },
    {
      "cell_type": "code",
      "source": [],
      "metadata": {
        "id": "2PMpmWPFF_3q"
      },
      "execution_count": 72,
      "outputs": []
    },
    {
      "cell_type": "code",
      "source": [],
      "metadata": {
        "id": "eisZPbKYF_ue"
      },
      "execution_count": 72,
      "outputs": []
    },
    {
      "cell_type": "code",
      "source": [],
      "metadata": {
        "id": "q3Mw_NkBF_pl"
      },
      "execution_count": 72,
      "outputs": []
    },
    {
      "cell_type": "code",
      "source": [],
      "metadata": {
        "id": "QFKzPDTuF_ig"
      },
      "execution_count": 72,
      "outputs": []
    },
    {
      "cell_type": "code",
      "source": [],
      "metadata": {
        "id": "QsVLpKrqF_di"
      },
      "execution_count": 72,
      "outputs": []
    },
    {
      "cell_type": "code",
      "source": [],
      "metadata": {
        "id": "PI5Mqi-wzVm6"
      },
      "execution_count": 72,
      "outputs": []
    },
    {
      "cell_type": "code",
      "source": [],
      "metadata": {
        "id": "MI5l4dOCx9t5"
      },
      "execution_count": 72,
      "outputs": []
    },
    {
      "cell_type": "code",
      "source": [],
      "metadata": {
        "id": "qNgupxF-x9re"
      },
      "execution_count": 72,
      "outputs": []
    },
    {
      "cell_type": "code",
      "source": [],
      "metadata": {
        "id": "ecPwCLS-zY9C"
      },
      "execution_count": 72,
      "outputs": []
    },
    {
      "cell_type": "code",
      "source": [],
      "metadata": {
        "id": "gfhvhZpb19JV"
      },
      "execution_count": 72,
      "outputs": []
    },
    {
      "cell_type": "code",
      "source": [],
      "metadata": {
        "id": "sRSGU5o8R4qi"
      },
      "execution_count": 72,
      "outputs": []
    },
    {
      "cell_type": "code",
      "source": [],
      "metadata": {
        "id": "R5HUIHJSGXzX"
      },
      "execution_count": 72,
      "outputs": []
    },
    {
      "cell_type": "code",
      "source": [],
      "metadata": {
        "id": "sb9cAZAy2Jst"
      },
      "execution_count": 72,
      "outputs": []
    },
    {
      "cell_type": "code",
      "source": [],
      "metadata": {
        "id": "HDRw3pR62JpQ"
      },
      "execution_count": 72,
      "outputs": []
    },
    {
      "cell_type": "code",
      "source": [],
      "metadata": {
        "id": "z-wI4TQv2Jl_"
      },
      "execution_count": 72,
      "outputs": []
    },
    {
      "cell_type": "code",
      "source": [],
      "metadata": {
        "id": "XXDweiFZ2JjZ"
      },
      "execution_count": 72,
      "outputs": []
    },
    {
      "cell_type": "code",
      "source": [],
      "metadata": {
        "id": "xRR80Q_r19F9"
      },
      "execution_count": 72,
      "outputs": []
    },
    {
      "cell_type": "code",
      "source": [],
      "metadata": {
        "id": "UdOApngZ19Dn"
      },
      "execution_count": 72,
      "outputs": []
    },
    {
      "cell_type": "code",
      "source": [],
      "metadata": {
        "id": "CPULioR219AZ"
      },
      "execution_count": 72,
      "outputs": []
    },
    {
      "cell_type": "code",
      "source": [],
      "metadata": {
        "id": "TXs86jD518-D"
      },
      "execution_count": 72,
      "outputs": []
    },
    {
      "cell_type": "code",
      "source": [],
      "metadata": {
        "id": "0ooc9YT2187q"
      },
      "execution_count": 72,
      "outputs": []
    },
    {
      "cell_type": "code",
      "source": [],
      "metadata": {
        "id": "LOtRU0Z9184x"
      },
      "execution_count": 72,
      "outputs": []
    },
    {
      "cell_type": "code",
      "source": [],
      "metadata": {
        "id": "SvCxwV241825"
      },
      "execution_count": 72,
      "outputs": []
    },
    {
      "cell_type": "code",
      "source": [],
      "metadata": {
        "id": "i7M6gHHsx9o9"
      },
      "execution_count": 72,
      "outputs": []
    },
    {
      "cell_type": "code",
      "execution_count": 72,
      "metadata": {
        "id": "Jh8X9cQsx3Z_"
      },
      "outputs": [],
      "source": []
    }
  ]
}